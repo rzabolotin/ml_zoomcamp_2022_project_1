{
 "cells": [
  {
   "cell_type": "markdown",
   "id": "d62f141f",
   "metadata": {},
   "source": [
    "# Model selection\n",
    "\n",
    "In this notebook we'll try different model and choose the best on cross-validation\n",
    "\n",
    "List of models:\n",
    "- Linear regression\n",
    "- Random Forest\n",
    "- XGBoost\n",
    "- CatBoost\n",
    "\n",
    "For this task we will use RMSE metric"
   ]
  },
  {
   "cell_type": "code",
   "execution_count": 173,
   "id": "e3991490",
   "metadata": {},
   "outputs": [],
   "source": [
    "import pandas as pd\n",
    "import numpy as np\n",
    "import sklearn.model_selection as model_selection\n",
    "import pickle\n",
    "import scipy.sparse\n",
    "\n",
    "import sklearn.linear_model as linear_model\n",
    "from sklearn.ensemble import RandomForestRegressor\n",
    "from sklearn.metrics import mean_squared_error"
   ]
  },
  {
   "cell_type": "code",
   "execution_count": 69,
   "id": "35c8c256",
   "metadata": {},
   "outputs": [],
   "source": [
    "df_train = scipy.sparse.load_npz(\"../data/train_sparse.npz\")\n",
    "df_test = scipy.sparse.load_npz(\"../data/test_sparse.npz\")\n",
    "y_train = pd.read_csv(\"../data/y_train.csv\", index_col=0)\n",
    "y_test = pd.read_csv(\"../data/y_test.csv\", index_col=0)\n",
    "with open(\"../artefacts/dv.pkl\", \"rb\") as file_pkl:\n",
    "    dv = pickle.load(file_pkl)"
   ]
  },
  {
   "cell_type": "markdown",
   "id": "cba7ddf6",
   "metadata": {},
   "source": [
    "# Let's try simple LinearRegression"
   ]
  },
  {
   "cell_type": "code",
   "execution_count": 71,
   "id": "d8715209",
   "metadata": {},
   "outputs": [],
   "source": [
    "model = linear_model.LinearRegression()"
   ]
  },
  {
   "cell_type": "code",
   "execution_count": 72,
   "id": "bd921977",
   "metadata": {},
   "outputs": [
    {
     "data": {
      "text/html": [
       "<style>#sk-container-id-5 {color: black;background-color: white;}#sk-container-id-5 pre{padding: 0;}#sk-container-id-5 div.sk-toggleable {background-color: white;}#sk-container-id-5 label.sk-toggleable__label {cursor: pointer;display: block;width: 100%;margin-bottom: 0;padding: 0.3em;box-sizing: border-box;text-align: center;}#sk-container-id-5 label.sk-toggleable__label-arrow:before {content: \"▸\";float: left;margin-right: 0.25em;color: #696969;}#sk-container-id-5 label.sk-toggleable__label-arrow:hover:before {color: black;}#sk-container-id-5 div.sk-estimator:hover label.sk-toggleable__label-arrow:before {color: black;}#sk-container-id-5 div.sk-toggleable__content {max-height: 0;max-width: 0;overflow: hidden;text-align: left;background-color: #f0f8ff;}#sk-container-id-5 div.sk-toggleable__content pre {margin: 0.2em;color: black;border-radius: 0.25em;background-color: #f0f8ff;}#sk-container-id-5 input.sk-toggleable__control:checked~div.sk-toggleable__content {max-height: 200px;max-width: 100%;overflow: auto;}#sk-container-id-5 input.sk-toggleable__control:checked~label.sk-toggleable__label-arrow:before {content: \"▾\";}#sk-container-id-5 div.sk-estimator input.sk-toggleable__control:checked~label.sk-toggleable__label {background-color: #d4ebff;}#sk-container-id-5 div.sk-label input.sk-toggleable__control:checked~label.sk-toggleable__label {background-color: #d4ebff;}#sk-container-id-5 input.sk-hidden--visually {border: 0;clip: rect(1px 1px 1px 1px);clip: rect(1px, 1px, 1px, 1px);height: 1px;margin: -1px;overflow: hidden;padding: 0;position: absolute;width: 1px;}#sk-container-id-5 div.sk-estimator {font-family: monospace;background-color: #f0f8ff;border: 1px dotted black;border-radius: 0.25em;box-sizing: border-box;margin-bottom: 0.5em;}#sk-container-id-5 div.sk-estimator:hover {background-color: #d4ebff;}#sk-container-id-5 div.sk-parallel-item::after {content: \"\";width: 100%;border-bottom: 1px solid gray;flex-grow: 1;}#sk-container-id-5 div.sk-label:hover label.sk-toggleable__label {background-color: #d4ebff;}#sk-container-id-5 div.sk-serial::before {content: \"\";position: absolute;border-left: 1px solid gray;box-sizing: border-box;top: 0;bottom: 0;left: 50%;z-index: 0;}#sk-container-id-5 div.sk-serial {display: flex;flex-direction: column;align-items: center;background-color: white;padding-right: 0.2em;padding-left: 0.2em;position: relative;}#sk-container-id-5 div.sk-item {position: relative;z-index: 1;}#sk-container-id-5 div.sk-parallel {display: flex;align-items: stretch;justify-content: center;background-color: white;position: relative;}#sk-container-id-5 div.sk-item::before, #sk-container-id-5 div.sk-parallel-item::before {content: \"\";position: absolute;border-left: 1px solid gray;box-sizing: border-box;top: 0;bottom: 0;left: 50%;z-index: -1;}#sk-container-id-5 div.sk-parallel-item {display: flex;flex-direction: column;z-index: 1;position: relative;background-color: white;}#sk-container-id-5 div.sk-parallel-item:first-child::after {align-self: flex-end;width: 50%;}#sk-container-id-5 div.sk-parallel-item:last-child::after {align-self: flex-start;width: 50%;}#sk-container-id-5 div.sk-parallel-item:only-child::after {width: 0;}#sk-container-id-5 div.sk-dashed-wrapped {border: 1px dashed gray;margin: 0 0.4em 0.5em 0.4em;box-sizing: border-box;padding-bottom: 0.4em;background-color: white;}#sk-container-id-5 div.sk-label label {font-family: monospace;font-weight: bold;display: inline-block;line-height: 1.2em;}#sk-container-id-5 div.sk-label-container {text-align: center;}#sk-container-id-5 div.sk-container {/* jupyter's `normalize.less` sets `[hidden] { display: none; }` but bootstrap.min.css set `[hidden] { display: none !important; }` so we also need the `!important` here to be able to override the default hidden behavior on the sphinx rendered scikit-learn.org. See: https://github.com/scikit-learn/scikit-learn/issues/21755 */display: inline-block !important;position: relative;}#sk-container-id-5 div.sk-text-repr-fallback {display: none;}</style><div id=\"sk-container-id-5\" class=\"sk-top-container\"><div class=\"sk-text-repr-fallback\"><pre>LinearRegression()</pre><b>In a Jupyter environment, please rerun this cell to show the HTML representation or trust the notebook. <br />On GitHub, the HTML representation is unable to render, please try loading this page with nbviewer.org.</b></div><div class=\"sk-container\" hidden><div class=\"sk-item\"><div class=\"sk-estimator sk-toggleable\"><input class=\"sk-toggleable__control sk-hidden--visually\" id=\"sk-estimator-id-5\" type=\"checkbox\" checked><label for=\"sk-estimator-id-5\" class=\"sk-toggleable__label sk-toggleable__label-arrow\">LinearRegression</label><div class=\"sk-toggleable__content\"><pre>LinearRegression()</pre></div></div></div></div></div>"
      ],
      "text/plain": [
       "LinearRegression()"
      ]
     },
     "execution_count": 72,
     "metadata": {},
     "output_type": "execute_result"
    }
   ],
   "source": [
    "model.fit(df_train, y_train)"
   ]
  },
  {
   "cell_type": "code",
   "execution_count": 73,
   "id": "a91a02f8",
   "metadata": {},
   "outputs": [
    {
     "name": "stdout",
     "output_type": "stream",
     "text": [
      "train error 1.3638562419387175\n",
      "test error 1.6411370816974096\n"
     ]
    }
   ],
   "source": [
    "print(f\"train error {mean_squared_error(model.predict(df_train), y_train)**0.5}\")\n",
    "print(f\"test error {mean_squared_error(model.predict(df_test), y_test)**0.5}\")\n"
   ]
  },
  {
   "cell_type": "markdown",
   "id": "14b6ac5c",
   "metadata": {},
   "source": [
    "Very good score, I even think, that's too good result, let's look carefully"
   ]
  },
  {
   "cell_type": "markdown",
   "id": "aae3f63f",
   "metadata": {},
   "source": [
    "### First row"
   ]
  },
  {
   "cell_type": "code",
   "execution_count": 95,
   "id": "a3cfa96b",
   "metadata": {},
   "outputs": [
    {
     "name": "stdout",
     "output_type": "stream",
     "text": [
      "prediction [[53658.08802239]]\n",
      "y car_purchase_amount    53655.53859\n",
      "Name: 131, dtype: float64\n"
     ]
    }
   ],
   "source": [
    "print(f\"prediction {model.predict(df_train[0,:])}\")\n",
    "print(f\"y {y_train.iloc[0]}\")"
   ]
  },
  {
   "cell_type": "code",
   "execution_count": 162,
   "id": "2a1c4b05",
   "metadata": {},
   "outputs": [
    {
     "data": {
      "text/plain": [
       "array([44385.16724741])"
      ]
     },
     "execution_count": 162,
     "metadata": {},
     "output_type": "execute_result"
    }
   ],
   "source": [
    "model.intercept_"
   ]
  },
  {
   "cell_type": "code",
   "execution_count": 103,
   "id": "74af2514",
   "metadata": {},
   "outputs": [
    {
     "data": {
      "text/plain": [
       "age                                           6705.239000\n",
       "agriculture                                      0.149742\n",
       "annual_salary                                 6554.524683\n",
       "arable_                                         -0.016466\n",
       "area_sq_mi                                       0.092878\n",
       "birthrate                                       -0.310494\n",
       "climate                                          0.087227\n",
       "coastline_coastarea_ratio                        0.026812\n",
       "credit_card_debt                                 0.004555\n",
       "crops_                                           0.076205\n",
       "customer_email_suffix=.ca                       -0.021120\n",
       "customer_email_suffix=.co.uk                     0.152051\n",
       "customer_email_suffix=.com                      -0.026218\n",
       "customer_email_suffix=.edu                      -0.085972\n",
       "customer_email_suffix=.net                      -0.001229\n",
       "customer_email_suffix=.org                      -0.017512\n",
       "deathrate                                       -0.044697\n",
       "gdp__per_capita                                 -0.179101\n",
       "gender                                          -0.113523\n",
       "industry                                        -0.048680\n",
       "infant_mortality_per_1000_births                 0.064152\n",
       "literacy_                                        0.072084\n",
       "net_migration                                   -0.012502\n",
       "net_worth                                     4972.698404\n",
       "other_                                           0.169078\n",
       "phones_per_1000                                  0.098372\n",
       "pop_density_per_sq_mi                           -0.189825\n",
       "population                                      -0.114175\n",
       "region=ASIA (EX. NEAR EAST)                      0.781061\n",
       "region=BALTICS                                  -1.062171\n",
       "region=C.W. OF IND. STATES                      -0.288328\n",
       "region=EASTERN EUROPE                           -0.249708\n",
       "region=LATIN AMER. & CARIB                      -0.010157\n",
       "region=NEAR EAST                                 0.726183\n",
       "region=NORTHERN AFRICA                           0.177113\n",
       "region=NORTHERN AMERICA                         -0.158757\n",
       "region=OCEANIA                                   0.156672\n",
       "region=SUB-SAHARAN AFRICA                        0.382396\n",
       "region=WESTERN EUROPE                           -0.454302\n",
       "service                                          0.171723\n",
       "dtype: float64"
      ]
     },
     "execution_count": 103,
     "metadata": {},
     "output_type": "execute_result"
    }
   ],
   "source": [
    "pd.Series(model.coef_[0], index=dv.feature_names_)"
   ]
  },
  {
   "cell_type": "markdown",
   "id": "42138d65",
   "metadata": {},
   "source": [
    "So, there is three very correlated features, that gives us very good perfomance.  \n",
    "\n",
    "I think our date is syntatic, so that's why we have such results."
   ]
  },
  {
   "cell_type": "markdown",
   "id": "ab651021",
   "metadata": {},
   "source": [
    "# Try to use simple linear combindation of three best featues"
   ]
  },
  {
   "cell_type": "code",
   "execution_count": 140,
   "id": "52246228",
   "metadata": {},
   "outputs": [
    {
     "name": "stdout",
     "output_type": "stream",
     "text": [
      "0\n",
      "2\n",
      "23\n"
     ]
    }
   ],
   "source": [
    "print(dv.feature_names_.index(\"age\"))\n",
    "print(dv.feature_names_.index(\"annual_salary\"))\n",
    "print(dv.feature_names_.index(\"net_worth\"))"
   ]
  },
  {
   "cell_type": "code",
   "execution_count": 184,
   "id": "34e71353",
   "metadata": {},
   "outputs": [],
   "source": [
    "def linear_predict(x):\n",
    "    y = 44385 + x[0] * 6705.239000 + x[2] * 6554.524683 + x[23] * 4972.698404\n",
    "    return (y)"
   ]
  },
  {
   "cell_type": "code",
   "execution_count": 185,
   "id": "1413a5ae",
   "metadata": {},
   "outputs": [],
   "source": [
    "first_row = df_train.toarray()[0,:]"
   ]
  },
  {
   "cell_type": "code",
   "execution_count": 186,
   "id": "2cae16c1",
   "metadata": {},
   "outputs": [
    {
     "data": {
      "text/plain": [
       "array([[53658.08802239]])"
      ]
     },
     "execution_count": 186,
     "metadata": {},
     "output_type": "execute_result"
    }
   ],
   "source": [
    "model.predict([first_row])"
   ]
  },
  {
   "cell_type": "code",
   "execution_count": 187,
   "id": "ce6ceab6",
   "metadata": {},
   "outputs": [
    {
     "data": {
      "text/plain": [
       "53657.35394271994"
      ]
     },
     "execution_count": 187,
     "metadata": {},
     "output_type": "execute_result"
    }
   ],
   "source": [
    "linear_predict(first_row)"
   ]
  },
  {
   "cell_type": "code",
   "execution_count": 188,
   "id": "7fc20496",
   "metadata": {},
   "outputs": [
    {
     "data": {
      "text/plain": [
       "car_purchase_amount    53655.53859\n",
       "Name: 131, dtype: float64"
      ]
     },
     "execution_count": 188,
     "metadata": {},
     "output_type": "execute_result"
    }
   ],
   "source": [
    "y_train.iloc[0]"
   ]
  },
  {
   "cell_type": "code",
   "execution_count": 189,
   "id": "3893c6ec",
   "metadata": {},
   "outputs": [],
   "source": [
    "linear_pred_train = np.apply_along_axis(linear_predict, 1, df_train.toarray())\n",
    "linear_pred_test = np.apply_along_axis(linear_predict, 1, df_test.toarray())"
   ]
  },
  {
   "cell_type": "code",
   "execution_count": 190,
   "id": "fc863f73",
   "metadata": {},
   "outputs": [
    {
     "name": "stdout",
     "output_type": "stream",
     "text": [
      "train error 1.5028203917565794\n",
      "test error 1.7293862266939801\n"
     ]
    }
   ],
   "source": [
    "print(f\"train error {mean_squared_error(linear_pred_train, y_train)**0.5}\")\n",
    "print(f\"test error {mean_squared_error(linear_pred_test, y_test)**0.5}\")"
   ]
  },
  {
   "cell_type": "markdown",
   "id": "a1f3e09e",
   "metadata": {},
   "source": [
    "# Try random forest"
   ]
  },
  {
   "cell_type": "code",
   "execution_count": 128,
   "id": "3bf9e9cf",
   "metadata": {},
   "outputs": [],
   "source": [
    "forest = RandomForestRegressor(n_estimators=100)"
   ]
  },
  {
   "cell_type": "code",
   "execution_count": 135,
   "id": "e9094b03",
   "metadata": {},
   "outputs": [
    {
     "data": {
      "text/html": [
       "<style>#sk-container-id-8 {color: black;background-color: white;}#sk-container-id-8 pre{padding: 0;}#sk-container-id-8 div.sk-toggleable {background-color: white;}#sk-container-id-8 label.sk-toggleable__label {cursor: pointer;display: block;width: 100%;margin-bottom: 0;padding: 0.3em;box-sizing: border-box;text-align: center;}#sk-container-id-8 label.sk-toggleable__label-arrow:before {content: \"▸\";float: left;margin-right: 0.25em;color: #696969;}#sk-container-id-8 label.sk-toggleable__label-arrow:hover:before {color: black;}#sk-container-id-8 div.sk-estimator:hover label.sk-toggleable__label-arrow:before {color: black;}#sk-container-id-8 div.sk-toggleable__content {max-height: 0;max-width: 0;overflow: hidden;text-align: left;background-color: #f0f8ff;}#sk-container-id-8 div.sk-toggleable__content pre {margin: 0.2em;color: black;border-radius: 0.25em;background-color: #f0f8ff;}#sk-container-id-8 input.sk-toggleable__control:checked~div.sk-toggleable__content {max-height: 200px;max-width: 100%;overflow: auto;}#sk-container-id-8 input.sk-toggleable__control:checked~label.sk-toggleable__label-arrow:before {content: \"▾\";}#sk-container-id-8 div.sk-estimator input.sk-toggleable__control:checked~label.sk-toggleable__label {background-color: #d4ebff;}#sk-container-id-8 div.sk-label input.sk-toggleable__control:checked~label.sk-toggleable__label {background-color: #d4ebff;}#sk-container-id-8 input.sk-hidden--visually {border: 0;clip: rect(1px 1px 1px 1px);clip: rect(1px, 1px, 1px, 1px);height: 1px;margin: -1px;overflow: hidden;padding: 0;position: absolute;width: 1px;}#sk-container-id-8 div.sk-estimator {font-family: monospace;background-color: #f0f8ff;border: 1px dotted black;border-radius: 0.25em;box-sizing: border-box;margin-bottom: 0.5em;}#sk-container-id-8 div.sk-estimator:hover {background-color: #d4ebff;}#sk-container-id-8 div.sk-parallel-item::after {content: \"\";width: 100%;border-bottom: 1px solid gray;flex-grow: 1;}#sk-container-id-8 div.sk-label:hover label.sk-toggleable__label {background-color: #d4ebff;}#sk-container-id-8 div.sk-serial::before {content: \"\";position: absolute;border-left: 1px solid gray;box-sizing: border-box;top: 0;bottom: 0;left: 50%;z-index: 0;}#sk-container-id-8 div.sk-serial {display: flex;flex-direction: column;align-items: center;background-color: white;padding-right: 0.2em;padding-left: 0.2em;position: relative;}#sk-container-id-8 div.sk-item {position: relative;z-index: 1;}#sk-container-id-8 div.sk-parallel {display: flex;align-items: stretch;justify-content: center;background-color: white;position: relative;}#sk-container-id-8 div.sk-item::before, #sk-container-id-8 div.sk-parallel-item::before {content: \"\";position: absolute;border-left: 1px solid gray;box-sizing: border-box;top: 0;bottom: 0;left: 50%;z-index: -1;}#sk-container-id-8 div.sk-parallel-item {display: flex;flex-direction: column;z-index: 1;position: relative;background-color: white;}#sk-container-id-8 div.sk-parallel-item:first-child::after {align-self: flex-end;width: 50%;}#sk-container-id-8 div.sk-parallel-item:last-child::after {align-self: flex-start;width: 50%;}#sk-container-id-8 div.sk-parallel-item:only-child::after {width: 0;}#sk-container-id-8 div.sk-dashed-wrapped {border: 1px dashed gray;margin: 0 0.4em 0.5em 0.4em;box-sizing: border-box;padding-bottom: 0.4em;background-color: white;}#sk-container-id-8 div.sk-label label {font-family: monospace;font-weight: bold;display: inline-block;line-height: 1.2em;}#sk-container-id-8 div.sk-label-container {text-align: center;}#sk-container-id-8 div.sk-container {/* jupyter's `normalize.less` sets `[hidden] { display: none; }` but bootstrap.min.css set `[hidden] { display: none !important; }` so we also need the `!important` here to be able to override the default hidden behavior on the sphinx rendered scikit-learn.org. See: https://github.com/scikit-learn/scikit-learn/issues/21755 */display: inline-block !important;position: relative;}#sk-container-id-8 div.sk-text-repr-fallback {display: none;}</style><div id=\"sk-container-id-8\" class=\"sk-top-container\"><div class=\"sk-text-repr-fallback\"><pre>RandomForestRegressor()</pre><b>In a Jupyter environment, please rerun this cell to show the HTML representation or trust the notebook. <br />On GitHub, the HTML representation is unable to render, please try loading this page with nbviewer.org.</b></div><div class=\"sk-container\" hidden><div class=\"sk-item\"><div class=\"sk-estimator sk-toggleable\"><input class=\"sk-toggleable__control sk-hidden--visually\" id=\"sk-estimator-id-8\" type=\"checkbox\" checked><label for=\"sk-estimator-id-8\" class=\"sk-toggleable__label sk-toggleable__label-arrow\">RandomForestRegressor</label><div class=\"sk-toggleable__content\"><pre>RandomForestRegressor()</pre></div></div></div></div></div>"
      ],
      "text/plain": [
       "RandomForestRegressor()"
      ]
     },
     "execution_count": 135,
     "metadata": {},
     "output_type": "execute_result"
    }
   ],
   "source": [
    "forest.fit(df_train, y_train.values[:,0])"
   ]
  },
  {
   "cell_type": "code",
   "execution_count": 137,
   "id": "3fe103d1",
   "metadata": {},
   "outputs": [
    {
     "name": "stdout",
     "output_type": "stream",
     "text": [
      "train error 1284.188323055143\n",
      "test error 4624.180238987961\n"
     ]
    }
   ],
   "source": [
    "print(f\"train error {mean_squared_error(forest.predict(df_train), y_train)**0.5}\")\n",
    "print(f\"test error {mean_squared_error(forest.predict(df_test), y_test)**0.5}\")\n"
   ]
  },
  {
   "cell_type": "code",
   "execution_count": 136,
   "id": "cb959c71",
   "metadata": {},
   "outputs": [
    {
     "name": "stdout",
     "output_type": "stream",
     "text": [
      "prediction [54268.574009]\n",
      "y car_purchase_amount    53655.53859\n",
      "Name: 131, dtype: float64\n"
     ]
    }
   ],
   "source": [
    "print(f\"prediction {forest.predict(df_train[0,:])}\")\n",
    "print(f\"y {y_train.iloc[0]}\")"
   ]
  },
  {
   "cell_type": "code",
   "execution_count": 139,
   "id": "a2466cdd",
   "metadata": {},
   "outputs": [
    {
     "data": {
      "text/plain": [
       "age                                           0.451002\n",
       "agriculture                                   0.003406\n",
       "annual_salary                                 0.301226\n",
       "arable_                                       0.003279\n",
       "area_sq_mi                                    0.003130\n",
       "birthrate                                     0.002504\n",
       "climate                                       0.001255\n",
       "coastline_coastarea_ratio                     0.004129\n",
       "credit_card_debt                              0.004436\n",
       "crops_                                        0.004274\n",
       "customer_email_suffix=.ca                     0.000379\n",
       "customer_email_suffix=.co.uk                  0.000886\n",
       "customer_email_suffix=.com                    0.000706\n",
       "customer_email_suffix=.edu                    0.000763\n",
       "customer_email_suffix=.net                    0.000429\n",
       "customer_email_suffix=.org                    0.000286\n",
       "deathrate                                     0.005816\n",
       "gdp__per_capita                               0.002040\n",
       "gender                                        0.001012\n",
       "industry                                      0.004188\n",
       "infant_mortality_per_1000_births              0.003970\n",
       "literacy_                                     0.003326\n",
       "net_migration                                 0.003060\n",
       "net_worth                                     0.174060\n",
       "other_                                        0.003508\n",
       "phones_per_1000                               0.002296\n",
       "pop_density_per_sq_mi                         0.003831\n",
       "population                                    0.004057\n",
       "region=ASIA (EX. NEAR EAST)                   0.000479\n",
       "region=BALTICS                                0.000007\n",
       "region=C.W. OF IND. STATES                    0.000019\n",
       "region=EASTERN EUROPE                         0.000210\n",
       "region=LATIN AMER. & CARIB                    0.001382\n",
       "region=NEAR EAST                              0.000107\n",
       "region=NORTHERN AFRICA                        0.000540\n",
       "region=NORTHERN AMERICA                       0.000046\n",
       "region=OCEANIA                                0.000183\n",
       "region=SUB-SAHARAN AFRICA                     0.000550\n",
       "region=WESTERN EUROPE                         0.000166\n",
       "service                                       0.003058\n",
       "dtype: float64"
      ]
     },
     "execution_count": 139,
     "metadata": {},
     "output_type": "execute_result"
    }
   ],
   "source": [
    "pd.Series(forest.feature_importances_, index=dv.feature_names_)"
   ]
  }
 ],
 "metadata": {
  "kernelspec": {
   "display_name": "Python 3 (ipykernel)",
   "language": "python",
   "name": "python3"
  },
  "language_info": {
   "codemirror_mode": {
    "name": "ipython",
    "version": 3
   },
   "file_extension": ".py",
   "mimetype": "text/x-python",
   "name": "python",
   "nbconvert_exporter": "python",
   "pygments_lexer": "ipython3",
   "version": "3.9.7"
  }
 },
 "nbformat": 4,
 "nbformat_minor": 5
}
