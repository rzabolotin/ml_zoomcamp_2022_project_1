{
 "cells": [
  {
   "cell_type": "code",
   "execution_count": 1,
   "id": "2c802354",
   "metadata": {},
   "outputs": [],
   "source": [
    "import numpy as np\n",
    "import pandas as pd\n",
    "import seaborn as sns\n",
    "import matplotlib.pyplot as plt"
   ]
  },
  {
   "cell_type": "markdown",
   "id": "fe825fea",
   "metadata": {},
   "source": [
    "# ML Zoomcamp project (Zabolotin Roman)\n",
    "\n",
    "I took dataset from here: https://www.kaggle.com/datasets/yashpaloswal/ann-car-sales-price-prediction\n",
    "\n",
    "Dataset description:\n",
    "\n",
    "**ANN - Car Sales Price Prediction**\n",
    "\n",
    "**Main Context:**  \n",
    "As a vehicle salesperson, you would like to create a model that can estimate the overall amount that consumers would spend given the following characteristics:\n",
    "customer name, customer email, country, gender, age, annual salary, credit card debt, and net worth\n",
    "\n",
    "**The model should anticipate the following (Problem Statement):**  \n",
    "Amount Paid for a Car\n",
    "\n",
    "**Task type:**  \n",
    "Regression\n",
    "\n",
    "**Algorithm:**  \n",
    "The given problem statement can be solved using Machine Learning or Deep Learning Techniques\n",
    "\n",
    "\n",
    "In this project I created a service that predicts how much a client can spent to buy a new car"
   ]
  },
  {
   "cell_type": "markdown",
   "id": "bfbb9f29",
   "metadata": {},
   "source": [
    "# Load data and preprocessing"
   ]
  },
  {
   "cell_type": "code",
   "execution_count": 2,
   "id": "fe612b16",
   "metadata": {},
   "outputs": [],
   "source": [
    "df = pd.read_csv(\"../data/car_purchasing.csv\",encoding='ISO-8859-1')"
   ]
  },
  {
   "cell_type": "code",
   "execution_count": 3,
   "id": "f9c6a108",
   "metadata": {},
   "outputs": [
    {
     "data": {
      "text/html": [
       "<div>\n",
       "<style scoped>\n",
       "    .dataframe tbody tr th:only-of-type {\n",
       "        vertical-align: middle;\n",
       "    }\n",
       "\n",
       "    .dataframe tbody tr th {\n",
       "        vertical-align: top;\n",
       "    }\n",
       "\n",
       "    .dataframe thead th {\n",
       "        text-align: right;\n",
       "    }\n",
       "</style>\n",
       "<table border=\"1\" class=\"dataframe\">\n",
       "  <thead>\n",
       "    <tr style=\"text-align: right;\">\n",
       "      <th></th>\n",
       "      <th>customer name</th>\n",
       "      <th>customer e-mail</th>\n",
       "      <th>country</th>\n",
       "      <th>gender</th>\n",
       "      <th>age</th>\n",
       "      <th>annual Salary</th>\n",
       "      <th>credit card debt</th>\n",
       "      <th>net worth</th>\n",
       "      <th>car purchase amount</th>\n",
       "    </tr>\n",
       "  </thead>\n",
       "  <tbody>\n",
       "    <tr>\n",
       "      <th>0</th>\n",
       "      <td>Martina Avila</td>\n",
       "      <td>cubilia.Curae.Phasellus@quisaccumsanconvallis.edu</td>\n",
       "      <td>Bulgaria</td>\n",
       "      <td>0</td>\n",
       "      <td>41.851720</td>\n",
       "      <td>62812.09301</td>\n",
       "      <td>11609.380910</td>\n",
       "      <td>238961.2505</td>\n",
       "      <td>35321.45877</td>\n",
       "    </tr>\n",
       "    <tr>\n",
       "      <th>1</th>\n",
       "      <td>Harlan Barnes</td>\n",
       "      <td>eu.dolor@diam.co.uk</td>\n",
       "      <td>Belize</td>\n",
       "      <td>0</td>\n",
       "      <td>40.870623</td>\n",
       "      <td>66646.89292</td>\n",
       "      <td>9572.957136</td>\n",
       "      <td>530973.9078</td>\n",
       "      <td>45115.52566</td>\n",
       "    </tr>\n",
       "    <tr>\n",
       "      <th>2</th>\n",
       "      <td>Naomi Rodriquez</td>\n",
       "      <td>vulputate.mauris.sagittis@ametconsectetueradip...</td>\n",
       "      <td>Algeria</td>\n",
       "      <td>1</td>\n",
       "      <td>43.152897</td>\n",
       "      <td>53798.55112</td>\n",
       "      <td>11160.355060</td>\n",
       "      <td>638467.1773</td>\n",
       "      <td>42925.70921</td>\n",
       "    </tr>\n",
       "  </tbody>\n",
       "</table>\n",
       "</div>"
      ],
      "text/plain": [
       "     customer name                                    customer e-mail  \\\n",
       "0    Martina Avila  cubilia.Curae.Phasellus@quisaccumsanconvallis.edu   \n",
       "1    Harlan Barnes                                eu.dolor@diam.co.uk   \n",
       "2  Naomi Rodriquez  vulputate.mauris.sagittis@ametconsectetueradip...   \n",
       "\n",
       "    country  gender        age  annual Salary  credit card debt    net worth  \\\n",
       "0  Bulgaria       0  41.851720    62812.09301      11609.380910  238961.2505   \n",
       "1    Belize       0  40.870623    66646.89292       9572.957136  530973.9078   \n",
       "2   Algeria       1  43.152897    53798.55112      11160.355060  638467.1773   \n",
       "\n",
       "   car purchase amount  \n",
       "0          35321.45877  \n",
       "1          45115.52566  \n",
       "2          42925.70921  "
      ]
     },
     "execution_count": 3,
     "metadata": {},
     "output_type": "execute_result"
    }
   ],
   "source": [
    "df.head(3)"
   ]
  },
  {
   "cell_type": "code",
   "execution_count": 47,
   "id": "f49c1334",
   "metadata": {},
   "outputs": [],
   "source": [
    "df.columns = df.columns.str.replace(\" \", \"_\").str.replace(\"-\",\"\").str.lower()"
   ]
  },
  {
   "cell_type": "code",
   "execution_count": 24,
   "id": "bcb563a9",
   "metadata": {},
   "outputs": [
    {
     "name": "stdout",
     "output_type": "stream",
     "text": [
      "<class 'pandas.core.frame.DataFrame'>\n",
      "RangeIndex: 500 entries, 0 to 499\n",
      "Data columns (total 9 columns):\n",
      " #   Column               Non-Null Count  Dtype  \n",
      "---  ------               --------------  -----  \n",
      " 0   customer_name        500 non-null    object \n",
      " 1   customer_email       500 non-null    object \n",
      " 2   country              500 non-null    object \n",
      " 3   gender               500 non-null    int64  \n",
      " 4   age                  500 non-null    float64\n",
      " 5   annual_Salary        500 non-null    float64\n",
      " 6   credit_card_debt     500 non-null    float64\n",
      " 7   net_worth            500 non-null    float64\n",
      " 8   car_purchase_amount  500 non-null    float64\n",
      "dtypes: float64(5), int64(1), object(3)\n",
      "memory usage: 35.3+ KB\n"
     ]
    }
   ],
   "source": [
    "df.info()"
   ]
  },
  {
   "cell_type": "code",
   "execution_count": 14,
   "id": "113a8063",
   "metadata": {},
   "outputs": [
    {
     "data": {
      "text/html": [
       "<div>\n",
       "<style scoped>\n",
       "    .dataframe tbody tr th:only-of-type {\n",
       "        vertical-align: middle;\n",
       "    }\n",
       "\n",
       "    .dataframe tbody tr th {\n",
       "        vertical-align: top;\n",
       "    }\n",
       "\n",
       "    .dataframe thead th {\n",
       "        text-align: right;\n",
       "    }\n",
       "</style>\n",
       "<table border=\"1\" class=\"dataframe\">\n",
       "  <thead>\n",
       "    <tr style=\"text-align: right;\">\n",
       "      <th></th>\n",
       "      <th>gender</th>\n",
       "      <th>age</th>\n",
       "      <th>annual_Salary</th>\n",
       "      <th>credit_card_debt</th>\n",
       "      <th>net_worth</th>\n",
       "      <th>car_purchase_amount</th>\n",
       "    </tr>\n",
       "  </thead>\n",
       "  <tbody>\n",
       "    <tr>\n",
       "      <th>count</th>\n",
       "      <td>500.000000</td>\n",
       "      <td>500.000000</td>\n",
       "      <td>500.000000</td>\n",
       "      <td>500.000000</td>\n",
       "      <td>500.000000</td>\n",
       "      <td>500.000000</td>\n",
       "    </tr>\n",
       "    <tr>\n",
       "      <th>mean</th>\n",
       "      <td>0.506000</td>\n",
       "      <td>46.241674</td>\n",
       "      <td>62127.239608</td>\n",
       "      <td>9607.645049</td>\n",
       "      <td>431475.713625</td>\n",
       "      <td>44209.799218</td>\n",
       "    </tr>\n",
       "    <tr>\n",
       "      <th>std</th>\n",
       "      <td>0.500465</td>\n",
       "      <td>7.978862</td>\n",
       "      <td>11703.378228</td>\n",
       "      <td>3489.187973</td>\n",
       "      <td>173536.756340</td>\n",
       "      <td>10773.178744</td>\n",
       "    </tr>\n",
       "    <tr>\n",
       "      <th>min</th>\n",
       "      <td>0.000000</td>\n",
       "      <td>20.000000</td>\n",
       "      <td>20000.000000</td>\n",
       "      <td>100.000000</td>\n",
       "      <td>20000.000000</td>\n",
       "      <td>9000.000000</td>\n",
       "    </tr>\n",
       "    <tr>\n",
       "      <th>25%</th>\n",
       "      <td>0.000000</td>\n",
       "      <td>40.949969</td>\n",
       "      <td>54391.977195</td>\n",
       "      <td>7397.515792</td>\n",
       "      <td>299824.195900</td>\n",
       "      <td>37629.896040</td>\n",
       "    </tr>\n",
       "    <tr>\n",
       "      <th>50%</th>\n",
       "      <td>1.000000</td>\n",
       "      <td>46.049901</td>\n",
       "      <td>62915.497035</td>\n",
       "      <td>9655.035568</td>\n",
       "      <td>426750.120650</td>\n",
       "      <td>43997.783390</td>\n",
       "    </tr>\n",
       "    <tr>\n",
       "      <th>75%</th>\n",
       "      <td>1.000000</td>\n",
       "      <td>51.612263</td>\n",
       "      <td>70117.862005</td>\n",
       "      <td>11798.867487</td>\n",
       "      <td>557324.478725</td>\n",
       "      <td>51254.709517</td>\n",
       "    </tr>\n",
       "    <tr>\n",
       "      <th>max</th>\n",
       "      <td>1.000000</td>\n",
       "      <td>70.000000</td>\n",
       "      <td>100000.000000</td>\n",
       "      <td>20000.000000</td>\n",
       "      <td>1000000.000000</td>\n",
       "      <td>80000.000000</td>\n",
       "    </tr>\n",
       "  </tbody>\n",
       "</table>\n",
       "</div>"
      ],
      "text/plain": [
       "           gender         age  annual_Salary  credit_card_debt  \\\n",
       "count  500.000000  500.000000     500.000000        500.000000   \n",
       "mean     0.506000   46.241674   62127.239608       9607.645049   \n",
       "std      0.500465    7.978862   11703.378228       3489.187973   \n",
       "min      0.000000   20.000000   20000.000000        100.000000   \n",
       "25%      0.000000   40.949969   54391.977195       7397.515792   \n",
       "50%      1.000000   46.049901   62915.497035       9655.035568   \n",
       "75%      1.000000   51.612263   70117.862005      11798.867487   \n",
       "max      1.000000   70.000000  100000.000000      20000.000000   \n",
       "\n",
       "            net_worth  car_purchase_amount  \n",
       "count      500.000000           500.000000  \n",
       "mean    431475.713625         44209.799218  \n",
       "std     173536.756340         10773.178744  \n",
       "min      20000.000000          9000.000000  \n",
       "25%     299824.195900         37629.896040  \n",
       "50%     426750.120650         43997.783390  \n",
       "75%     557324.478725         51254.709517  \n",
       "max    1000000.000000         80000.000000  "
      ]
     },
     "execution_count": 14,
     "metadata": {},
     "output_type": "execute_result"
    }
   ],
   "source": [
    "df.describe()"
   ]
  },
  {
   "cell_type": "markdown",
   "id": "a600aa26",
   "metadata": {},
   "source": [
    "# EDA"
   ]
  },
  {
   "cell_type": "markdown",
   "id": "012be406",
   "metadata": {},
   "source": [
    "## Target value - car_purchase_amount"
   ]
  },
  {
   "cell_type": "code",
   "execution_count": 17,
   "id": "f2d0b878",
   "metadata": {},
   "outputs": [
    {
     "data": {
      "image/png": "[encoded data removed]",
      "text/plain": [
       "<Figure size 432x288 with 1 Axes>"
      ]
     },
     "metadata": {
      "needs_background": "light"
     },
     "output_type": "display_data"
    }
   ],
   "source": [
    "sns.histplot(df.car_purchase_amount);"
   ]
  },
  {
   "cell_type": "markdown",
   "id": "4a3f3ccd",
   "metadata": {},
   "source": [
    "Looks lika a normal distribution   \n",
    "We don't need to change it\n"
   ]
  },
  {
   "cell_type": "markdown",
   "id": "da31ba10",
   "metadata": {},
   "source": [
    "## Customer name, customer email (sting values)"
   ]
  },
  {
   "cell_type": "code",
   "execution_count": 21,
   "id": "46dd3c4c",
   "metadata": {},
   "outputs": [
    {
     "data": {
      "text/plain": [
       "474                    Avye\n",
       "274        Hammett F. Marsh\n",
       "239           Zane I. Boone\n",
       "152           Rashad Harper\n",
       "238         Callum U. Sweet\n",
       "334      Hudson, Maxwell F.\n",
       "455                 Tamekah\n",
       "335           Levy, Irma P.\n",
       "28            Gemma Hendrix\n",
       "443               Aristotle\n",
       "105        Dominic Mcintosh\n",
       "170          Graiden Powell\n",
       "340        Powers, Naomi B.\n",
       "284       Odette Q. Sherman\n",
       "320       Wise, Mechelle E.\n",
       "200         Tiger I. Melton\n",
       "353          Ortiz, Drew P.\n",
       "448                   Wayne\n",
       "115         Quamar Cummings\n",
       "445                 Urielle\n",
       "255          Damon K. Boone\n",
       "439                Demetria\n",
       "422                    Reed\n",
       "466                   India\n",
       "51            Leilani Gross\n",
       "162         Trevor Faulkner\n",
       "213          Velma K. Moses\n",
       "26               Ulric Lynn\n",
       "220           Lynn S. Avery\n",
       "240      Timothy J. Terrell\n",
       "477                Isabella\n",
       "149              Orson Hyde\n",
       "119             Dean Snider\n",
       "82             Abel Stanton\n",
       "328    Sexton, Shaeleigh H.\n",
       "211        Emerald R. Cohen\n",
       "191          Gannon Marquez\n",
       "349         Levy, Wesley S.\n",
       "32         Dahlia Cleveland\n",
       "164         Quentin Randall\n",
       "Name: customer_name, dtype: object"
      ]
     },
     "execution_count": 21,
     "metadata": {},
     "output_type": "execute_result"
    }
   ],
   "source": [
    "df.customer_name.sample(40)"
   ]
  },
  {
   "cell_type": "code",
   "execution_count": 22,
   "id": "c3a225ae",
   "metadata": {},
   "outputs": [
    {
     "data": {
      "text/plain": [
       "Seth                    2\n",
       "Walter                  2\n",
       "Martina Avila           1\n",
       "Sexton, Shaeleigh H.    1\n",
       "Holloway, Brennan Q.    1\n",
       "                       ..\n",
       "Holmes Irwin            1\n",
       "Hector Price            1\n",
       "Sebastian Marks         1\n",
       "Marvin Garner           1\n",
       "Marla                   1\n",
       "Name: customer_name, Length: 498, dtype: int64"
      ]
     },
     "execution_count": 22,
     "metadata": {},
     "output_type": "execute_result"
    }
   ],
   "source": [
    "df.customer_name.value_counts()"
   ]
  },
  {
   "cell_type": "code",
   "execution_count": 26,
   "id": "5d78fef0",
   "metadata": {},
   "outputs": [
    {
     "data": {
      "text/plain": [
       "381    ornare.egestas.ligula@urnaVivamusmolestie.com\n",
       "119                                    tempus@sit.ca\n",
       "124                  Cras.lorem@nonvestibulumnec.net\n",
       "372                    ut.aliquam@egetlacusMauris.ca\n",
       "54                lectus.a.sollicitudin@tortorat.net\n",
       "245                      consequat.nec.mollis@nec.ca\n",
       "313       vestibulum.nec.euismod@netusetmalesuada.ca\n",
       "470     purus.ac.tellus@parturientmontesnascetur.org\n",
       "367                               lacinia@posuere.ca\n",
       "304       luctus.lobortis.Class@sitametdapibus.co.uk\n",
       "59                      Class.aptent@torquentper.com\n",
       "487                    porttitor.tellus@elitelit.org\n",
       "146                               eu.ultrices@In.edu\n",
       "315                         nec.tellus@lacinia.co.uk\n",
       "173                                 auctor@ipsum.org\n",
       "37                       ultrices@Integersemelit.com\n",
       "377                     sit.amet@dignissimmagnaa.edu\n",
       "46               Vivamus.nisi.Mauris@miAliquam.co.uk\n",
       "222                        aliquet@volutpatNulla.edu\n",
       "134                        rutrum@temporbibendum.com\n",
       "164                    Fusce.aliquet@egetmassa.co.uk\n",
       "157                                ac@sedpedeCum.org\n",
       "237                Nunc.mauris.elit@Curabiturvel.edu\n",
       "283                               magna@velarcueu.ca\n",
       "317                           velit@doloregestas.net\n",
       "374        pellentesque.a.facilisis@nonlacinia.co.uk\n",
       "446                          erat.neque.non@elit.com\n",
       "421             iaculis.quis.pede@adipiscingenim.net\n",
       "328        Cras.convallis.convallis@Fuscealiquam.net\n",
       "90                      scelerisque@Vivamusnon.co.uk\n",
       "340                    Cras.eu@vitaevelitegestas.net\n",
       "6                                  vehicula@at.co.uk\n",
       "498                Quisque.varius@arcuVivamussit.net\n",
       "140       sollicitudin.adipiscing.ligula@Sedeu.co.uk\n",
       "284                Mauris.molestie@Intincidunt.co.uk\n",
       "415                        erat.Vivamus@ligula.co.uk\n",
       "480           pretium.aliquet.metus@pretiumneque.com\n",
       "347             dolor.sit.amet@iaculisneceleifend.ca\n",
       "145                      condimentum@duilectus.co.uk\n",
       "19                volutpat.Nulla.facilisis@primis.ca\n",
       "Name: customer_email, dtype: object"
      ]
     },
     "execution_count": 26,
     "metadata": {},
     "output_type": "execute_result"
    }
   ],
   "source": [
    "df.customer_email.sample(40)"
   ]
  },
  {
   "cell_type": "markdown",
   "id": "1967de0b",
   "metadata": {},
   "source": [
    "We can use the lastdomain name from email  \n",
    "for example:  \n",
    "pellentesque.a.facilisis@nonlacinia.co.uk -> .co.uk  \n",
    "Cras.eu@vitaevelitegestas.net -> .net  \n",
    "  \n",
    "Maybe it can be usefull"
   ]
  },
  {
   "cell_type": "markdown",
   "id": "6153696e",
   "metadata": {},
   "source": [
    "## Country"
   ]
  },
  {
   "cell_type": "code",
   "execution_count": 36,
   "id": "ec1d45eb",
   "metadata": {},
   "outputs": [
    {
     "data": {
      "image/png": "[encoded data removed]",
      "text/plain": [
       "<Figure size 432x288 with 1 Axes>"
      ]
     },
     "metadata": {
      "needs_background": "light"
     },
     "output_type": "display_data"
    }
   ],
   "source": [
    "sns.countplot(x=df.country);\n",
    "plt.xticks(rotation=90);\n",
    "plt.show();"
   ]
  },
  {
   "cell_type": "markdown",
   "id": "0edbb562",
   "metadata": {},
   "source": [
    "There are very huge amount of countries, we need reduce it's amount.  \n",
    "For this purpuse we can find external datasets."
   ]
  },
  {
   "cell_type": "markdown",
   "id": "3cd2bafd",
   "metadata": {},
   "source": [
    "## Gender"
   ]
  },
  {
   "cell_type": "code",
   "execution_count": 37,
   "id": "6d82dd7e",
   "metadata": {},
   "outputs": [
    {
     "data": {
      "image/png": "[encoded data removed]",
      "text/plain": [
       "<Figure size 432x288 with 1 Axes>"
      ]
     },
     "metadata": {
      "needs_background": "light"
     },
     "output_type": "display_data"
    }
   ],
   "source": [
    "sns.countplot(x=df.gender);"
   ]
  },
  {
   "cell_type": "code",
   "execution_count": 38,
   "id": "ce772258",
   "metadata": {},
   "outputs": [
    {
     "data": {
      "image/png": "[encoded data removed]",
      "text/plain": [
       "<Figure size 432x288 with 1 Axes>"
      ]
     },
     "metadata": {
      "needs_background": "light"
     },
     "output_type": "display_data"
    }
   ],
   "source": [
    "sns.boxplot(x=df.gender, y=df.car_purchase_amount);"
   ]
  },
  {
   "cell_type": "markdown",
   "id": "de7cefd5",
   "metadata": {},
   "source": [
    "## Age"
   ]
  },
  {
   "cell_type": "code",
   "execution_count": 43,
   "id": "71ba78fe",
   "metadata": {},
   "outputs": [],
   "source": [
    "df.age = df.age.values.astype(int)"
   ]
  },
  {
   "cell_type": "code",
   "execution_count": 44,
   "id": "a4a395dd",
   "metadata": {},
   "outputs": [
    {
     "data": {
      "image/png": "[encoded data removed]",
      "text/plain": [
       "<Figure size 432x288 with 1 Axes>"
      ]
     },
     "metadata": {
      "needs_background": "light"
     },
     "output_type": "display_data"
    }
   ],
   "source": [
    "sns.countplot(x=df.age);"
   ]
  },
  {
   "cell_type": "markdown",
   "id": "50e809bc",
   "metadata": {},
   "source": [
    "We can use it as numerical feature"
   ]
  },
  {
   "cell_type": "markdown",
   "id": "5309df5a",
   "metadata": {},
   "source": [
    "## Annual salary"
   ]
  },
  {
   "cell_type": "code",
   "execution_count": 49,
   "id": "0b2286e0",
   "metadata": {},
   "outputs": [
    {
     "data": {
      "image/png": "[encoded data removed]",
      "text/plain": [
       "<Figure size 432x288 with 1 Axes>"
      ]
     },
     "metadata": {
      "needs_background": "light"
     },
     "output_type": "display_data"
    }
   ],
   "source": [
    "sns.histplot(df.annual_salary);"
   ]
  },
  {
   "cell_type": "markdown",
   "id": "e6278aa1",
   "metadata": {},
   "source": [
    "## Credit card dept"
   ]
  },
  {
   "cell_type": "code",
   "execution_count": 52,
   "id": "10ba474b",
   "metadata": {},
   "outputs": [
    {
     "data": {
      "image/png": "[encoded data removed]",
      "text/plain": [
       "<Figure size 432x288 with 1 Axes>"
      ]
     },
     "metadata": {
      "needs_background": "light"
     },
     "output_type": "display_data"
    }
   ],
   "source": [
    "sns.histplot(df.credit_card_debt);"
   ]
  },
  {
   "cell_type": "markdown",
   "id": "764d75d3",
   "metadata": {},
   "source": [
    "## Net worth"
   ]
  },
  {
   "cell_type": "code",
   "execution_count": 54,
   "id": "a82dcc59",
   "metadata": {},
   "outputs": [
    {
     "data": {
      "image/png": "[encoded data removed]",
      "text/plain": [
       "<Figure size 432x288 with 1 Axes>"
      ]
     },
     "metadata": {
      "needs_background": "light"
     },
     "output_type": "display_data"
    }
   ],
   "source": [
    "sns.histplot(df.net_worth);"
   ]
  },
  {
   "cell_type": "code",
   "execution_count": 56,
   "id": "39fe2239",
   "metadata": {},
   "outputs": [
    {
     "data": {
      "text/plain": [
       "count        500.000000\n",
       "mean      431475.713625\n",
       "std       173536.756340\n",
       "min        20000.000000\n",
       "25%       299824.195900\n",
       "50%       426750.120650\n",
       "75%       557324.478725\n",
       "max      1000000.000000\n",
       "Name: net_worth, dtype: float64"
      ]
     },
     "execution_count": 56,
     "metadata": {},
     "output_type": "execute_result"
    }
   ],
   "source": [
    "df.net_worth.describe()"
   ]
  },
  {
   "cell_type": "markdown",
   "id": "3d9d5110",
   "metadata": {},
   "source": [
    "## Let's look for correlation matrix"
   ]
  },
  {
   "cell_type": "code",
   "execution_count": 68,
   "id": "1c499937",
   "metadata": {},
   "outputs": [
    {
     "data": {
      "image/png": "[encoded data removed]",
      "text/plain": [
       "<Figure size 960x640 with 2 Axes>"
      ]
     },
     "metadata": {
      "needs_background": "light"
     },
     "output_type": "display_data"
    }
   ],
   "source": [
    "corr_table = df.select_dtypes(include=['int', 'float']).corr()\n",
    "plt.figure(figsize=(12, 8), dpi=80)\n",
    "sns.heatmap(corr_table, cmap='viridis');"
   ]
  },
  {
   "cell_type": "markdown",
   "id": "51d3356d",
   "metadata": {},
   "source": [
    "**Very correlated columns are:**\n",
    "\n",
    "- age|car_purchase_amount\n",
    "- annual_salary|car_purchase_amount"
   ]
  },
  {
   "cell_type": "markdown",
   "id": "92cf0f99",
   "metadata": {},
   "source": [
    "# Conclusion"
   ]
  },
  {
   "cell_type": "markdown",
   "id": "4cbe5a0b",
   "metadata": {},
   "source": [
    "1. It's a very small dataset, but I'll try create a usefull model with him\n",
    "2. Target variable is very correlated with age and anual salary (what makes sense)\n",
    "3. We need external data about countries, to gain more information about customer (such as continent, GDP)\n"
   ]
  },
  {
   "cell_type": "markdown",
   "id": "9cfa38e3",
   "metadata": {},
   "source": [
    "# Next part: Data preporation"
   ]
  }
 ],
 "metadata": {
  "kernelspec": {
   "display_name": "Python 3 (ipykernel)",
   "language": "python",
   "name": "python3"
  },
  "language_info": {
   "codemirror_mode": {
    "name": "ipython",
    "version": 3
   },
   "file_extension": ".py",
   "mimetype": "text/x-python",
   "name": "python",
   "nbconvert_exporter": "python",
   "pygments_lexer": "ipython3",
   "version": "3.9.7"
  }
 },
 "nbformat": 4,
 "nbformat_minor": 5
}
