{
 "cells": [
  {
   "cell_type": "markdown",
   "id": "d62f141f",
   "metadata": {},
   "source": [
    "# Model training\n",
    "\n",
    "In this notebook I tried diffenent model, compare their performance, try optimze hyperparameters.  \n",
    "\n",
    "List of models:\n",
    "- LinearRegression\n",
    "- Ridge (Linear model with L2 regularization)\n",
    "- Linear SVR\n",
    "- Random Forest\n",
    "- CatBoost\n",
    "\n",
    "We have regression task, we try predict the amout of money that customer willing to pay for a car.  \n",
    "\n",
    "I used the RMSE metric for evaluation\n",
    "\n",
    "Training part of this notebook is converted to the script [2_train_model.py](../scripts/2_train_model.py)"
   ]
  },
  {
   "cell_type": "code",
   "execution_count": 1,
   "id": "e3991490",
   "metadata": {},
   "outputs": [],
   "source": [
    "import numpy as np\n",
    "import pandas as pd\n",
    "from pprint import pprint\n",
    "import pickle\n",
    "\n",
    "from  sklearn.model_selection import cross_val_score, train_test_split, GridSearchCV\n",
    "from sklearn.metrics import mean_squared_error\n",
    "from sklearn.base import BaseEstimator\n",
    "from sklearn.preprocessing import StandardScaler\n",
    "from sklearn.feature_extraction import DictVectorizer\n",
    "\n",
    "from sklearn.linear_model import LinearRegression, RidgeCV\n",
    "from sklearn.svm import LinearSVR\n",
    "from sklearn.ensemble import RandomForestRegressor\n",
    "from catboost import CatBoostRegressor\n",
    "\n",
    "import bentoml\n",
    "\n",
    "from vectorizers import DataPreparation, MyVectorizer"
   ]
  },
  {
   "cell_type": "code",
   "execution_count": 2,
   "id": "679f9950",
   "metadata": {},
   "outputs": [],
   "source": [
    "SEED=42"
   ]
  },
  {
   "cell_type": "markdown",
   "id": "e57dc570",
   "metadata": {},
   "source": [
    "# Prepare data for training"
   ]
  },
  {
   "cell_type": "code",
   "execution_count": 3,
   "id": "35c8c256",
   "metadata": {},
   "outputs": [],
   "source": [
    "df = pd.read_csv(\"../data/processed/main_data.csv\")"
   ]
  },
  {
   "cell_type": "code",
   "execution_count": 4,
   "id": "cc25e913",
   "metadata": {},
   "outputs": [
    {
     "data": {
      "text/html": [
       "<div>\n",
       "<style scoped>\n",
       "    .dataframe tbody tr th:only-of-type {\n",
       "        vertical-align: middle;\n",
       "    }\n",
       "\n",
       "    .dataframe tbody tr th {\n",
       "        vertical-align: top;\n",
       "    }\n",
       "\n",
       "    .dataframe thead th {\n",
       "        text-align: right;\n",
       "    }\n",
       "</style>\n",
       "<table border=\"1\" class=\"dataframe\">\n",
       "  <thead>\n",
       "    <tr style=\"text-align: right;\">\n",
       "      <th></th>\n",
       "      <th>gender</th>\n",
       "      <th>age</th>\n",
       "      <th>annual_salary</th>\n",
       "      <th>credit_card_debt</th>\n",
       "      <th>net_worth</th>\n",
       "      <th>car_purchase_amount</th>\n",
       "      <th>customer_email_suffix</th>\n",
       "      <th>region</th>\n",
       "      <th>population</th>\n",
       "      <th>area_sq_mi</th>\n",
       "      <th>pop_density_per_sq_mi</th>\n",
       "      <th>coastline_coastarea_ratio</th>\n",
       "      <th>gdp__per_capita</th>\n",
       "      <th>birthrate</th>\n",
       "      <th>deathrate</th>\n",
       "    </tr>\n",
       "  </thead>\n",
       "  <tbody>\n",
       "    <tr>\n",
       "      <th>0</th>\n",
       "      <td>0</td>\n",
       "      <td>41.851720</td>\n",
       "      <td>62812.09301</td>\n",
       "      <td>11609.380910</td>\n",
       "      <td>238961.2505</td>\n",
       "      <td>35321.45877</td>\n",
       "      <td>.edu</td>\n",
       "      <td>EASTERN EUROPE</td>\n",
       "      <td>7385367</td>\n",
       "      <td>110910</td>\n",
       "      <td>66.6</td>\n",
       "      <td>0.32</td>\n",
       "      <td>7600.0</td>\n",
       "      <td>9.65</td>\n",
       "      <td>14.27</td>\n",
       "    </tr>\n",
       "    <tr>\n",
       "      <th>1</th>\n",
       "      <td>0</td>\n",
       "      <td>40.870623</td>\n",
       "      <td>66646.89292</td>\n",
       "      <td>9572.957136</td>\n",
       "      <td>530973.9078</td>\n",
       "      <td>45115.52566</td>\n",
       "      <td>.co.uk</td>\n",
       "      <td>LATIN AMER. &amp; CARIB</td>\n",
       "      <td>287730</td>\n",
       "      <td>22966</td>\n",
       "      <td>12.5</td>\n",
       "      <td>1.68</td>\n",
       "      <td>4900.0</td>\n",
       "      <td>28.84</td>\n",
       "      <td>5.72</td>\n",
       "    </tr>\n",
       "    <tr>\n",
       "      <th>2</th>\n",
       "      <td>1</td>\n",
       "      <td>43.152897</td>\n",
       "      <td>53798.55112</td>\n",
       "      <td>11160.355060</td>\n",
       "      <td>638467.1773</td>\n",
       "      <td>42925.70921</td>\n",
       "      <td>.co.uk</td>\n",
       "      <td>NORTHERN AFRICA</td>\n",
       "      <td>32930091</td>\n",
       "      <td>2381740</td>\n",
       "      <td>13.8</td>\n",
       "      <td>0.04</td>\n",
       "      <td>6000.0</td>\n",
       "      <td>17.14</td>\n",
       "      <td>4.61</td>\n",
       "    </tr>\n",
       "    <tr>\n",
       "      <th>3</th>\n",
       "      <td>1</td>\n",
       "      <td>58.271369</td>\n",
       "      <td>79370.03798</td>\n",
       "      <td>14426.164850</td>\n",
       "      <td>548599.0524</td>\n",
       "      <td>67422.36313</td>\n",
       "      <td>.com</td>\n",
       "      <td>OCEANIA</td>\n",
       "      <td>21388</td>\n",
       "      <td>240</td>\n",
       "      <td>89.1</td>\n",
       "      <td>50.00</td>\n",
       "      <td>5000.0</td>\n",
       "      <td>21.00</td>\n",
       "      <td>0.00</td>\n",
       "    </tr>\n",
       "    <tr>\n",
       "      <th>4</th>\n",
       "      <td>1</td>\n",
       "      <td>57.313749</td>\n",
       "      <td>59729.15130</td>\n",
       "      <td>5358.712177</td>\n",
       "      <td>560304.0671</td>\n",
       "      <td>55915.46248</td>\n",
       "      <td>.net</td>\n",
       "      <td>LATIN AMER. &amp; CARIB</td>\n",
       "      <td>188078227</td>\n",
       "      <td>8511965</td>\n",
       "      <td>22.1</td>\n",
       "      <td>0.09</td>\n",
       "      <td>7600.0</td>\n",
       "      <td>16.56</td>\n",
       "      <td>6.17</td>\n",
       "    </tr>\n",
       "  </tbody>\n",
       "</table>\n",
       "</div>"
      ],
      "text/plain": [
       "   gender        age  annual_salary  credit_card_debt    net_worth  \\\n",
       "0       0  41.851720    62812.09301      11609.380910  238961.2505   \n",
       "1       0  40.870623    66646.89292       9572.957136  530973.9078   \n",
       "2       1  43.152897    53798.55112      11160.355060  638467.1773   \n",
       "3       1  58.271369    79370.03798      14426.164850  548599.0524   \n",
       "4       1  57.313749    59729.15130       5358.712177  560304.0671   \n",
       "\n",
       "   car_purchase_amount customer_email_suffix  \\\n",
       "0          35321.45877                  .edu   \n",
       "1          45115.52566                .co.uk   \n",
       "2          42925.70921                .co.uk   \n",
       "3          67422.36313                  .com   \n",
       "4          55915.46248                  .net   \n",
       "\n",
       "                                region  population  area_sq_mi  \\\n",
       "0  EASTERN EUROPE                          7385367      110910   \n",
       "1              LATIN AMER. & CARIB          287730       22966   \n",
       "2  NORTHERN AFRICA                        32930091     2381740   \n",
       "3  OCEANIA                                   21388         240   \n",
       "4              LATIN AMER. & CARIB       188078227     8511965   \n",
       "\n",
       "   pop_density_per_sq_mi  coastline_coastarea_ratio  gdp__per_capita  \\\n",
       "0                   66.6                       0.32           7600.0   \n",
       "1                   12.5                       1.68           4900.0   \n",
       "2                   13.8                       0.04           6000.0   \n",
       "3                   89.1                      50.00           5000.0   \n",
       "4                   22.1                       0.09           7600.0   \n",
       "\n",
       "   birthrate  deathrate  \n",
       "0       9.65      14.27  \n",
       "1      28.84       5.72  \n",
       "2      17.14       4.61  \n",
       "3      21.00       0.00  \n",
       "4      16.56       6.17  "
      ]
     },
     "execution_count": 4,
     "metadata": {},
     "output_type": "execute_result"
    }
   ],
   "source": [
    "df.head()"
   ]
  },
  {
   "cell_type": "code",
   "execution_count": 5,
   "id": "f9bfe401",
   "metadata": {},
   "outputs": [],
   "source": [
    "y = df.car_purchase_amount\n",
    "df.drop([\"car_purchase_amount\"], axis=1, inplace=True)"
   ]
  },
  {
   "cell_type": "code",
   "execution_count": 6,
   "id": "a1b0675a",
   "metadata": {},
   "outputs": [],
   "source": [
    "df_train, df_test, y_train, y_test = train_test_split(df, y, test_size=0.2, random_state=SEED, shuffle=True)"
   ]
  },
  {
   "cell_type": "code",
   "execution_count": 7,
   "id": "b5e42207",
   "metadata": {},
   "outputs": [
    {
     "data": {
      "text/html": [
       "<div>\n",
       "<style scoped>\n",
       "    .dataframe tbody tr th:only-of-type {\n",
       "        vertical-align: middle;\n",
       "    }\n",
       "\n",
       "    .dataframe tbody tr th {\n",
       "        vertical-align: top;\n",
       "    }\n",
       "\n",
       "    .dataframe thead th {\n",
       "        text-align: right;\n",
       "    }\n",
       "</style>\n",
       "<table border=\"1\" class=\"dataframe\">\n",
       "  <thead>\n",
       "    <tr style=\"text-align: right;\">\n",
       "      <th></th>\n",
       "      <th>gender</th>\n",
       "      <th>age</th>\n",
       "      <th>annual_salary</th>\n",
       "      <th>credit_card_debt</th>\n",
       "      <th>net_worth</th>\n",
       "      <th>customer_email_suffix</th>\n",
       "      <th>region</th>\n",
       "      <th>population</th>\n",
       "      <th>area_sq_mi</th>\n",
       "      <th>pop_density_per_sq_mi</th>\n",
       "      <th>coastline_coastarea_ratio</th>\n",
       "      <th>gdp__per_capita</th>\n",
       "      <th>birthrate</th>\n",
       "      <th>deathrate</th>\n",
       "    </tr>\n",
       "  </thead>\n",
       "  <tbody>\n",
       "    <tr>\n",
       "      <th>249</th>\n",
       "      <td>0</td>\n",
       "      <td>36.117247</td>\n",
       "      <td>70334.42787</td>\n",
       "      <td>9823.218967</td>\n",
       "      <td>632600.4718</td>\n",
       "      <td>.ca</td>\n",
       "      <td>UNKNOWN</td>\n",
       "      <td>0</td>\n",
       "      <td>0</td>\n",
       "      <td>0.0</td>\n",
       "      <td>0.00</td>\n",
       "      <td>0.0</td>\n",
       "      <td>0.00</td>\n",
       "      <td>0.00</td>\n",
       "    </tr>\n",
       "    <tr>\n",
       "      <th>433</th>\n",
       "      <td>1</td>\n",
       "      <td>39.814817</td>\n",
       "      <td>56086.45033</td>\n",
       "      <td>6588.606462</td>\n",
       "      <td>228388.5491</td>\n",
       "      <td>.ca</td>\n",
       "      <td>UNKNOWN</td>\n",
       "      <td>0</td>\n",
       "      <td>0</td>\n",
       "      <td>0.0</td>\n",
       "      <td>0.00</td>\n",
       "      <td>0.0</td>\n",
       "      <td>0.00</td>\n",
       "      <td>0.00</td>\n",
       "    </tr>\n",
       "    <tr>\n",
       "      <th>19</th>\n",
       "      <td>0</td>\n",
       "      <td>58.741842</td>\n",
       "      <td>55368.23716</td>\n",
       "      <td>13272.946470</td>\n",
       "      <td>566022.1306</td>\n",
       "      <td>.ca</td>\n",
       "      <td>NEAR EAST</td>\n",
       "      <td>26783383</td>\n",
       "      <td>437072</td>\n",
       "      <td>61.3</td>\n",
       "      <td>0.01</td>\n",
       "      <td>1500.0</td>\n",
       "      <td>31.98</td>\n",
       "      <td>5.37</td>\n",
       "    </tr>\n",
       "    <tr>\n",
       "      <th>322</th>\n",
       "      <td>0</td>\n",
       "      <td>60.180119</td>\n",
       "      <td>58837.97088</td>\n",
       "      <td>12788.815730</td>\n",
       "      <td>622324.7499</td>\n",
       "      <td>.co.uk</td>\n",
       "      <td>EASTERN EUROPE</td>\n",
       "      <td>9396411</td>\n",
       "      <td>88361</td>\n",
       "      <td>106.3</td>\n",
       "      <td>0.00</td>\n",
       "      <td>2200.0</td>\n",
       "      <td>0.00</td>\n",
       "      <td>0.00</td>\n",
       "    </tr>\n",
       "    <tr>\n",
       "      <th>332</th>\n",
       "      <td>0</td>\n",
       "      <td>31.244838</td>\n",
       "      <td>41361.95045</td>\n",
       "      <td>10755.508420</td>\n",
       "      <td>615720.0425</td>\n",
       "      <td>.edu</td>\n",
       "      <td>UNKNOWN</td>\n",
       "      <td>0</td>\n",
       "      <td>0</td>\n",
       "      <td>0.0</td>\n",
       "      <td>0.00</td>\n",
       "      <td>0.0</td>\n",
       "      <td>0.00</td>\n",
       "      <td>0.00</td>\n",
       "    </tr>\n",
       "  </tbody>\n",
       "</table>\n",
       "</div>"
      ],
      "text/plain": [
       "     gender        age  annual_salary  credit_card_debt    net_worth  \\\n",
       "249       0  36.117247    70334.42787       9823.218967  632600.4718   \n",
       "433       1  39.814817    56086.45033       6588.606462  228388.5491   \n",
       "19        0  58.741842    55368.23716      13272.946470  566022.1306   \n",
       "322       0  60.180119    58837.97088      12788.815730  622324.7499   \n",
       "332       0  31.244838    41361.95045      10755.508420  615720.0425   \n",
       "\n",
       "    customer_email_suffix                               region  population  \\\n",
       "249                   .ca                              UNKNOWN           0   \n",
       "433                   .ca                              UNKNOWN           0   \n",
       "19                    .ca  NEAR EAST                              26783383   \n",
       "322                .co.uk  EASTERN EUROPE                          9396411   \n",
       "332                  .edu                              UNKNOWN           0   \n",
       "\n",
       "     area_sq_mi  pop_density_per_sq_mi  coastline_coastarea_ratio  \\\n",
       "249           0                    0.0                       0.00   \n",
       "433           0                    0.0                       0.00   \n",
       "19       437072                   61.3                       0.01   \n",
       "322       88361                  106.3                       0.00   \n",
       "332           0                    0.0                       0.00   \n",
       "\n",
       "     gdp__per_capita  birthrate  deathrate  \n",
       "249              0.0       0.00       0.00  \n",
       "433              0.0       0.00       0.00  \n",
       "19            1500.0      31.98       5.37  \n",
       "322           2200.0       0.00       0.00  \n",
       "332              0.0       0.00       0.00  "
      ]
     },
     "execution_count": 7,
     "metadata": {},
     "output_type": "execute_result"
    }
   ],
   "source": [
    "df_train.head()"
   ]
  },
  {
   "cell_type": "markdown",
   "id": "38f5ade6",
   "metadata": {},
   "source": [
    "> Separeted y from df  \n",
    "> Splited dataset to train & test (took 20% for holdout)\n"
   ]
  },
  {
   "cell_type": "markdown",
   "id": "48be3677",
   "metadata": {},
   "source": [
    "# Vecrorize dataset"
   ]
  },
  {
   "cell_type": "code",
   "execution_count": 8,
   "id": "6f3b12f3",
   "metadata": {},
   "outputs": [],
   "source": [
    "vectorizer = MyVectorizer()\n",
    "X_train = vectorizer.fit_transform(df_train)\n",
    "X_test = vectorizer.transform(df_test)"
   ]
  },
  {
   "cell_type": "markdown",
   "id": "5ae9b906",
   "metadata": {},
   "source": [
    "# Let's try dummy models\n",
    "> That predicts mean amount"
   ]
  },
  {
   "cell_type": "code",
   "execution_count": 9,
   "id": "2d158733",
   "metadata": {},
   "outputs": [],
   "source": [
    "class MeanPredictor(BaseEstimator):\n",
    "    def __init__(self):\n",
    "        self._mean = 0\n",
    "    \n",
    "    def fit(self, X, y):\n",
    "        self._mean = np.mean(y)\n",
    "    \n",
    "    def predict(self, X):\n",
    "        return np.repeat(self._mean, X.shape[0])\n",
    "    \n",
    "    def score(self, X, y):\n",
    "        return mean_squared_error(self.predict(X), y)"
   ]
  },
  {
   "cell_type": "code",
   "execution_count": 10,
   "id": "10e81422",
   "metadata": {},
   "outputs": [],
   "source": [
    "def score_model(model, X, y):\n",
    "    result = list(np.round((-cross_val_score(model, X, y, cv=5, scoring='neg_mean_squared_error'))**0.5, 5))\n",
    "    print(f\"Cross validation RMSE for {model}\")\n",
    "    print()\n",
    "    pprint(result)\n",
    "    print()\n",
    "    print(f\"Mean RMSE: {np.round(np.mean(result), 5)}\")"
   ]
  },
  {
   "cell_type": "code",
   "execution_count": 11,
   "id": "5867e3b3",
   "metadata": {},
   "outputs": [
    {
     "name": "stdout",
     "output_type": "stream",
     "text": [
      "Cross validation RMSE for MeanPredictor()\n",
      "\n",
      "[11534.6994, 11003.47481, 11618.62646, 10089.47294, 9885.06097]\n",
      "\n",
      "Mean RMSE: 10826.26692\n"
     ]
    }
   ],
   "source": [
    "score_model(MeanPredictor(), X_train, y_train)"
   ]
  },
  {
   "cell_type": "markdown",
   "id": "cba7ddf6",
   "metadata": {},
   "source": [
    "# Linear models"
   ]
  },
  {
   "cell_type": "markdown",
   "id": "dfa6707b",
   "metadata": {},
   "source": [
    "## LinearRegression"
   ]
  },
  {
   "cell_type": "code",
   "execution_count": 12,
   "id": "9ec84b6c",
   "metadata": {},
   "outputs": [
    {
     "name": "stdout",
     "output_type": "stream",
     "text": [
      "Cross validation RMSE for LinearRegression()\n",
      "\n",
      "[1.51511, 1.37404, 1.44615, 1.62358, 1.78798]\n",
      "\n",
      "Mean RMSE: 1.54937\n"
     ]
    }
   ],
   "source": [
    "score_model(LinearRegression(), X_train, y_train)"
   ]
  },
  {
   "cell_type": "markdown",
   "id": "04c10798",
   "metadata": {},
   "source": [
    "## RidgeCV (Linear + L2 regularization + CV for alpha)"
   ]
  },
  {
   "cell_type": "code",
   "execution_count": 13,
   "id": "f28d89a9",
   "metadata": {},
   "outputs": [],
   "source": [
    "regr_cv = RidgeCV(alphas=[0.1, 1.0, 10.0])"
   ]
  },
  {
   "cell_type": "code",
   "execution_count": 14,
   "id": "a7d4ac1d",
   "metadata": {},
   "outputs": [],
   "source": [
    "model_cv = regr_cv.fit(X_train, y_train)"
   ]
  },
  {
   "cell_type": "code",
   "execution_count": 15,
   "id": "38291ced",
   "metadata": {},
   "outputs": [
    {
     "name": "stdout",
     "output_type": "stream",
     "text": [
      "Param alpha = 0.1\n"
     ]
    }
   ],
   "source": [
    "print(f\"Param alpha = {model_cv.alpha_}\")"
   ]
  },
  {
   "cell_type": "code",
   "execution_count": 16,
   "id": "30c60b3a",
   "metadata": {},
   "outputs": [
    {
     "name": "stdout",
     "output_type": "stream",
     "text": [
      "Cross validation RMSE for RidgeCV(alphas=[0.1, 1.0, 10.0])\n",
      "\n",
      "[4.35292, 4.19551, 4.40486, 3.72861, 3.79454]\n",
      "\n",
      "Mean RMSE: 4.09529\n"
     ]
    }
   ],
   "source": [
    "score_model(model_cv, X_train, y_train)"
   ]
  },
  {
   "cell_type": "markdown",
   "id": "e4389325",
   "metadata": {},
   "source": [
    "## Linear models have an exelent performance.\n",
    "> Yes, and it's a problems.  \n",
    "> It means that our data is syntetic, and our target is linear combination of numeric features"
   ]
  },
  {
   "cell_type": "code",
   "execution_count": 17,
   "id": "052c693f",
   "metadata": {},
   "outputs": [
    {
     "name": "stdout",
     "output_type": "stream",
     "text": [
      "[46133.83724, 29517.87529, 54828.59527, 59621.99384, 25252.00363]\n",
      "[46135.27233, 29519.56184, 54827.52403, 59625.02618, 25252.93221]\n"
     ]
    }
   ],
   "source": [
    "model_linear = LinearRegression()\n",
    "model_linear.fit(X_train, y_train)\n",
    "pprint(list(np.round(model_linear.predict(X_train)[0:5],5)))\n",
    "pprint(list(y_train.iloc[:5]))"
   ]
  },
  {
   "cell_type": "markdown",
   "id": "b2fbff4d",
   "metadata": {},
   "source": [
    "# Second dummy model, linear combination of features"
   ]
  },
  {
   "cell_type": "code",
   "execution_count": 18,
   "id": "0f6f5641",
   "metadata": {},
   "outputs": [],
   "source": [
    "class LinearPredictor(BaseEstimator):\n",
    "    def __init__(self):\n",
    "        self._mean = 0\n",
    "    \n",
    "    def fit(self, X, y):\n",
    "        pass\n",
    "    \n",
    "    def predict(self, X):\n",
    "        y = 43946.09177638776 + X[:, 0] * 6764.2431783130405 + X[:, 1] * 6685.214307781013 + X[:, 15] * 5082.409111980831\n",
    "        return y\n",
    "    \n",
    "    def score(self, X, y):\n",
    "        return mean_squared_error(self.predict(X), y)"
   ]
  },
  {
   "cell_type": "code",
   "execution_count": 19,
   "id": "9d1536ae",
   "metadata": {},
   "outputs": [
    {
     "name": "stdout",
     "output_type": "stream",
     "text": [
      "Cross validation RMSE for LinearPredictor()\n",
      "\n",
      "[1.46616, 1.29778, 1.34564, 1.57134, 1.71436]\n",
      "\n",
      "Mean RMSE: 1.47906\n"
     ]
    }
   ],
   "source": [
    "score_model(LinearPredictor(), X_train, y_train)"
   ]
  },
  {
   "cell_type": "code",
   "execution_count": 20,
   "id": "af87173b",
   "metadata": {},
   "outputs": [
    {
     "name": "stdout",
     "output_type": "stream",
     "text": [
      "Test RMSE: 2.0497900543250025\n"
     ]
    }
   ],
   "source": [
    "model_linear = LinearPredictor()\n",
    "model_linear.fit(X_train, y_train)\n",
    "print(f\"Test RMSE: {mean_squared_error(y_test, model_linear.predict(X_test))}\")"
   ]
  },
  {
   "cell_type": "markdown",
   "id": "42138d65",
   "metadata": {},
   "source": [
    "> So, the best perfomance is given by linear model, because of linear dependency in source data  \n",
    "> By the way, I will not use this model for education purposes, and to make make more generalization ability for my service\n"
   ]
  },
  {
   "cell_type": "markdown",
   "id": "a1f3e09e",
   "metadata": {},
   "source": [
    "# Linear SVR"
   ]
  },
  {
   "cell_type": "code",
   "execution_count": 21,
   "id": "bdbb2e1d",
   "metadata": {},
   "outputs": [
    {
     "name": "stdout",
     "output_type": "stream",
     "text": [
      "Cross validation RMSE for LinearSVR()\n",
      "\n",
      "[45242.06469, 44232.61896, 45465.55035, 45472.61648, 43546.78562]\n",
      "\n",
      "Mean RMSE: 44791.92722\n"
     ]
    }
   ],
   "source": [
    "score_model(LinearSVR(), X_train, y_train)"
   ]
  },
  {
   "cell_type": "markdown",
   "id": "1fe5bf37",
   "metadata": {},
   "source": [
    "# Random Forest"
   ]
  },
  {
   "cell_type": "code",
   "execution_count": 22,
   "id": "8a17718c",
   "metadata": {},
   "outputs": [
    {
     "name": "stdout",
     "output_type": "stream",
     "text": [
      "DEPTH 1\n",
      "Cross validation RMSE for RandomForestRegressor(max_depth=1, n_estimators=200, random_state=42)\n",
      "\n",
      "[9035.18447, 8114.38469, 9139.67589, 7514.8783, 7607.73515]\n",
      "\n",
      "Mean RMSE: 8282.3717\n",
      "DEPTH 2\n",
      "Cross validation RMSE for RandomForestRegressor(max_depth=2, n_estimators=200, random_state=42)\n",
      "\n",
      "[7210.48341, 6336.19179, 7431.46746, 5876.22276, 6736.31624]\n",
      "\n",
      "Mean RMSE: 6718.13633\n",
      "DEPTH 3\n",
      "Cross validation RMSE for RandomForestRegressor(max_depth=3, n_estimators=200, random_state=42)\n",
      "\n",
      "[5540.1352, 4812.57835, 6448.71115, 4472.06241, 5185.9053]\n",
      "\n",
      "Mean RMSE: 5291.87848\n",
      "DEPTH 5\n",
      "Cross validation RMSE for RandomForestRegressor(max_depth=5, n_estimators=200, random_state=42)\n",
      "\n",
      "[4034.6144, 3515.24238, 4914.26935, 2910.84405, 3710.08313]\n",
      "\n",
      "Mean RMSE: 3817.01066\n",
      "DEPTH 7\n",
      "Cross validation RMSE for RandomForestRegressor(max_depth=7, n_estimators=200, random_state=42)\n",
      "\n",
      "[3537.16047, 3127.25475, 4310.69216, 2498.00026, 3245.02482]\n",
      "\n",
      "Mean RMSE: 3343.62649\n",
      "DEPTH 10\n",
      "Cross validation RMSE for RandomForestRegressor(max_depth=10, n_estimators=200, random_state=42)\n",
      "\n",
      "[3498.75558, 3048.54208, 4210.27817, 2429.00858, 3168.9619]\n",
      "\n",
      "Mean RMSE: 3271.10926\n"
     ]
    }
   ],
   "source": [
    "for depth in [1,2,3,5,7,10]:\n",
    "    print(f\"DEPTH {depth}\")\n",
    "    score_model(RandomForestRegressor(n_estimators=200, max_depth=depth, random_state=SEED), X_train, y_train)"
   ]
  },
  {
   "cell_type": "markdown",
   "id": "058e3fb5",
   "metadata": {},
   "source": [
    "# Catboost "
   ]
  },
  {
   "cell_type": "code",
   "execution_count": 23,
   "id": "0352621f",
   "metadata": {},
   "outputs": [
    {
     "name": "stdout",
     "output_type": "stream",
     "text": [
      "DEPTH 1\n",
      "Cross validation RMSE for <catboost.core.CatBoostRegressor object at 0x0000025FD75AD8E0>\n",
      "\n",
      "[1808.50302, 1692.45359, 2431.94612, 1364.16829, 1655.12434]\n",
      "\n",
      "Mean RMSE: 1790.43907\n",
      "DEPTH 2\n",
      "Cross validation RMSE for <catboost.core.CatBoostRegressor object at 0x0000025FD757E190>\n",
      "\n",
      "[1548.81551, 1500.26176, 1761.86331, 1149.7257, 1459.35538]\n",
      "\n",
      "Mean RMSE: 1484.00433\n",
      "DEPTH 3\n",
      "Cross validation RMSE for <catboost.core.CatBoostRegressor object at 0x0000025FD757E190>\n",
      "\n",
      "[1409.05795, 1585.60115, 1655.40142, 877.8478, 1455.58039]\n",
      "\n",
      "Mean RMSE: 1396.69774\n",
      "DEPTH 5\n",
      "Cross validation RMSE for <catboost.core.CatBoostRegressor object at 0x0000025FD75AD790>\n",
      "\n",
      "[1799.26243, 1850.77835, 2016.86718, 1028.04793, 1711.00724]\n",
      "\n",
      "Mean RMSE: 1681.19263\n",
      "DEPTH 7\n",
      "Cross validation RMSE for <catboost.core.CatBoostRegressor object at 0x0000025FD75AD940>\n",
      "\n",
      "[2900.77422, 2670.43779, 3152.16527, 1948.3585, 2468.60227]\n",
      "\n",
      "Mean RMSE: 2628.06761\n",
      "DEPTH 10\n",
      "Cross validation RMSE for <catboost.core.CatBoostRegressor object at 0x0000025FD7567370>\n",
      "\n",
      "[5011.7295, 4717.96877, 4817.2451, 3498.26501, 4065.56258]\n",
      "\n",
      "Mean RMSE: 4422.15419\n"
     ]
    }
   ],
   "source": [
    "for depth in [1,2,3,5,7,10]:\n",
    "    print(f\"DEPTH {depth}\")\n",
    "    score_model(CatBoostRegressor(verbose=False, iterations=200, depth=depth, random_state=SEED), X_train, y_train)"
   ]
  },
  {
   "cell_type": "markdown",
   "id": "7da3c802",
   "metadata": {},
   "source": [
    "# Results\n",
    "\n",
    "| Model                 | Params    | CV results |\n",
    "|-----------------------|-----------|------------|\n",
    "| MeanPredictor         |           | 10826      |\n",
    "| LinearRegression      |           | 1          |\n",
    "| RidgeCV               | alpha=0.1 | 1          |\n",
    "| LinearPredictor       |           | 1          |\n",
    "| LinearSVR             |           | 44791      |\n",
    "| RandomForestRegressor | depth=10  | 3271       |\n",
    "| **CatBoostRegressor** | **depth=3**| **1396**   |\n",
    "\n",
    "> Except for linear models, the CatBoostRegressor model with a depth of 3 gave the best performance.  \n",
    "> Let's take it as a basis and try to optimize other parameters."
   ]
  },
  {
   "cell_type": "markdown",
   "id": "2e381708",
   "metadata": {},
   "source": [
    "## Optimizing CatBoostRegressor"
   ]
  },
  {
   "cell_type": "code",
   "execution_count": 24,
   "id": "8ca75d38",
   "metadata": {},
   "outputs": [
    {
     "name": "stdout",
     "output_type": "stream",
     "text": [
      "Wall time: 16 s\n"
     ]
    },
    {
     "data": {
      "text/html": [
       "<style>#sk-container-id-1 {color: black;background-color: white;}#sk-container-id-1 pre{padding: 0;}#sk-container-id-1 div.sk-toggleable {background-color: white;}#sk-container-id-1 label.sk-toggleable__label {cursor: pointer;display: block;width: 100%;margin-bottom: 0;padding: 0.3em;box-sizing: border-box;text-align: center;}#sk-container-id-1 label.sk-toggleable__label-arrow:before {content: \"▸\";float: left;margin-right: 0.25em;color: #696969;}#sk-container-id-1 label.sk-toggleable__label-arrow:hover:before {color: black;}#sk-container-id-1 div.sk-estimator:hover label.sk-toggleable__label-arrow:before {color: black;}#sk-container-id-1 div.sk-toggleable__content {max-height: 0;max-width: 0;overflow: hidden;text-align: left;background-color: #f0f8ff;}#sk-container-id-1 div.sk-toggleable__content pre {margin: 0.2em;color: black;border-radius: 0.25em;background-color: #f0f8ff;}#sk-container-id-1 input.sk-toggleable__control:checked~div.sk-toggleable__content {max-height: 200px;max-width: 100%;overflow: auto;}#sk-container-id-1 input.sk-toggleable__control:checked~label.sk-toggleable__label-arrow:before {content: \"▾\";}#sk-container-id-1 div.sk-estimator input.sk-toggleable__control:checked~label.sk-toggleable__label {background-color: #d4ebff;}#sk-container-id-1 div.sk-label input.sk-toggleable__control:checked~label.sk-toggleable__label {background-color: #d4ebff;}#sk-container-id-1 input.sk-hidden--visually {border: 0;clip: rect(1px 1px 1px 1px);clip: rect(1px, 1px, 1px, 1px);height: 1px;margin: -1px;overflow: hidden;padding: 0;position: absolute;width: 1px;}#sk-container-id-1 div.sk-estimator {font-family: monospace;background-color: #f0f8ff;border: 1px dotted black;border-radius: 0.25em;box-sizing: border-box;margin-bottom: 0.5em;}#sk-container-id-1 div.sk-estimator:hover {background-color: #d4ebff;}#sk-container-id-1 div.sk-parallel-item::after {content: \"\";width: 100%;border-bottom: 1px solid gray;flex-grow: 1;}#sk-container-id-1 div.sk-label:hover label.sk-toggleable__label {background-color: #d4ebff;}#sk-container-id-1 div.sk-serial::before {content: \"\";position: absolute;border-left: 1px solid gray;box-sizing: border-box;top: 0;bottom: 0;left: 50%;z-index: 0;}#sk-container-id-1 div.sk-serial {display: flex;flex-direction: column;align-items: center;background-color: white;padding-right: 0.2em;padding-left: 0.2em;position: relative;}#sk-container-id-1 div.sk-item {position: relative;z-index: 1;}#sk-container-id-1 div.sk-parallel {display: flex;align-items: stretch;justify-content: center;background-color: white;position: relative;}#sk-container-id-1 div.sk-item::before, #sk-container-id-1 div.sk-parallel-item::before {content: \"\";position: absolute;border-left: 1px solid gray;box-sizing: border-box;top: 0;bottom: 0;left: 50%;z-index: -1;}#sk-container-id-1 div.sk-parallel-item {display: flex;flex-direction: column;z-index: 1;position: relative;background-color: white;}#sk-container-id-1 div.sk-parallel-item:first-child::after {align-self: flex-end;width: 50%;}#sk-container-id-1 div.sk-parallel-item:last-child::after {align-self: flex-start;width: 50%;}#sk-container-id-1 div.sk-parallel-item:only-child::after {width: 0;}#sk-container-id-1 div.sk-dashed-wrapped {border: 1px dashed gray;margin: 0 0.4em 0.5em 0.4em;box-sizing: border-box;padding-bottom: 0.4em;background-color: white;}#sk-container-id-1 div.sk-label label {font-family: monospace;font-weight: bold;display: inline-block;line-height: 1.2em;}#sk-container-id-1 div.sk-label-container {text-align: center;}#sk-container-id-1 div.sk-container {/* jupyter's `normalize.less` sets `[hidden] { display: none; }` but bootstrap.min.css set `[hidden] { display: none !important; }` so we also need the `!important` here to be able to override the default hidden behavior on the sphinx rendered scikit-learn.org. See: https://github.com/scikit-learn/scikit-learn/issues/21755 */display: inline-block !important;position: relative;}#sk-container-id-1 div.sk-text-repr-fallback {display: none;}</style><div id=\"sk-container-id-1\" class=\"sk-top-container\"><div class=\"sk-text-repr-fallback\"><pre>GridSearchCV(cv=5,\n",
       "             estimator=&lt;catboost.core.CatBoostRegressor object at 0x0000025FD75B9CA0&gt;,\n",
       "             n_jobs=-1,\n",
       "             param_grid={&#x27;depth&#x27;: [2, 3], &#x27;iterations&#x27;: [30, 50, 100, 200],\n",
       "                         &#x27;learning_rate&#x27;: [0.01, 0.05, 0.1]})</pre><b>In a Jupyter environment, please rerun this cell to show the HTML representation or trust the notebook. <br />On GitHub, the HTML representation is unable to render, please try loading this page with nbviewer.org.</b></div><div class=\"sk-container\" hidden><div class=\"sk-item sk-dashed-wrapped\"><div class=\"sk-label-container\"><div class=\"sk-label sk-toggleable\"><input class=\"sk-toggleable__control sk-hidden--visually\" id=\"sk-estimator-id-1\" type=\"checkbox\" ><label for=\"sk-estimator-id-1\" class=\"sk-toggleable__label sk-toggleable__label-arrow\">GridSearchCV</label><div class=\"sk-toggleable__content\"><pre>GridSearchCV(cv=5,\n",
       "             estimator=&lt;catboost.core.CatBoostRegressor object at 0x0000025FD75B9CA0&gt;,\n",
       "             n_jobs=-1,\n",
       "             param_grid={&#x27;depth&#x27;: [2, 3], &#x27;iterations&#x27;: [30, 50, 100, 200],\n",
       "                         &#x27;learning_rate&#x27;: [0.01, 0.05, 0.1]})</pre></div></div></div><div class=\"sk-parallel\"><div class=\"sk-parallel-item\"><div class=\"sk-item\"><div class=\"sk-label-container\"><div class=\"sk-label sk-toggleable\"><input class=\"sk-toggleable__control sk-hidden--visually\" id=\"sk-estimator-id-2\" type=\"checkbox\" ><label for=\"sk-estimator-id-2\" class=\"sk-toggleable__label sk-toggleable__label-arrow\">estimator: CatBoostRegressor</label><div class=\"sk-toggleable__content\"><pre>&lt;catboost.core.CatBoostRegressor object at 0x0000025FD75B9CA0&gt;</pre></div></div></div><div class=\"sk-serial\"><div class=\"sk-item\"><div class=\"sk-estimator sk-toggleable\"><input class=\"sk-toggleable__control sk-hidden--visually\" id=\"sk-estimator-id-3\" type=\"checkbox\" ><label for=\"sk-estimator-id-3\" class=\"sk-toggleable__label sk-toggleable__label-arrow\">CatBoostRegressor</label><div class=\"sk-toggleable__content\"><pre>&lt;catboost.core.CatBoostRegressor object at 0x0000025FD75B9CA0&gt;</pre></div></div></div></div></div></div></div></div></div></div>"
      ],
      "text/plain": [
       "GridSearchCV(cv=5,\n",
       "             estimator=<catboost.core.CatBoostRegressor object at 0x0000025FD75B9CA0>,\n",
       "             n_jobs=-1,\n",
       "             param_grid={'depth': [2, 3], 'iterations': [30, 50, 100, 200],\n",
       "                         'learning_rate': [0.01, 0.05, 0.1]})"
      ]
     },
     "execution_count": 24,
     "metadata": {},
     "output_type": "execute_result"
    }
   ],
   "source": [
    "%%time\n",
    "model = CatBoostRegressor(verbose=False, random_seed=SEED)\n",
    "parameters = {\n",
    "    'depth': [2, 3],\n",
    "    'learning_rate' : [0.01, 0.05, 0.1],\n",
    "    'iterations'    : [30, 50, 100, 200]\n",
    "}\n",
    "\n",
    "grid = GridSearchCV(estimator=model, param_grid = parameters, cv = 5, n_jobs=-1)\n",
    "grid.fit(X_train, y_train)"
   ]
  },
  {
   "cell_type": "code",
   "execution_count": 25,
   "id": "8dfe7577",
   "metadata": {},
   "outputs": [
    {
     "name": "stdout",
     "output_type": "stream",
     "text": [
      "Cross validation RMSE for <catboost.core.CatBoostRegressor object at 0x0000025FD7567EE0>\n",
      "\n",
      "[1366.13134, 1447.61249, 1694.44458, 937.76391, 1440.63379]\n",
      "\n",
      "Mean RMSE: 1377.31722\n"
     ]
    }
   ],
   "source": [
    "score_model(grid.best_estimator_, X_train, y_train)"
   ]
  },
  {
   "cell_type": "code",
   "execution_count": 26,
   "id": "60ee808c",
   "metadata": {},
   "outputs": [
    {
     "data": {
      "text/plain": [
       "{'depth': 3, 'iterations': 200, 'learning_rate': 0.1}"
      ]
     },
     "execution_count": 26,
     "metadata": {},
     "output_type": "execute_result"
    }
   ],
   "source": [
    "grid.best_params_"
   ]
  },
  {
   "cell_type": "markdown",
   "id": "4a5d7c2b",
   "metadata": {},
   "source": [
    "# Prepare best model on whole train data"
   ]
  },
  {
   "cell_type": "code",
   "execution_count": 27,
   "id": "13f94f68",
   "metadata": {},
   "outputs": [],
   "source": [
    "model = CatBoostRegressor(**grid.best_params_)"
   ]
  },
  {
   "cell_type": "code",
   "execution_count": 28,
   "id": "c2197d55",
   "metadata": {},
   "outputs": [
    {
     "name": "stdout",
     "output_type": "stream",
     "text": [
      "0:\tlearn: 10206.3968092\ttotal: 1.89ms\tremaining: 376ms\n",
      "1:\tlearn: 9827.6873623\ttotal: 4.5ms\tremaining: 446ms\n",
      "2:\tlearn: 9292.5877784\ttotal: 6.65ms\tremaining: 437ms\n",
      "3:\tlearn: 8821.6414960\ttotal: 8.65ms\tremaining: 424ms\n",
      "4:\tlearn: 8461.2281584\ttotal: 10.8ms\tremaining: 421ms\n",
      "5:\tlearn: 8076.9167548\ttotal: 12.8ms\tremaining: 415ms\n",
      "6:\tlearn: 7774.6498370\ttotal: 14.7ms\tremaining: 406ms\n",
      "7:\tlearn: 7415.2745377\ttotal: 16.8ms\tremaining: 403ms\n",
      "8:\tlearn: 7052.9067533\ttotal: 18.1ms\tremaining: 383ms\n",
      "9:\tlearn: 6699.1300358\ttotal: 19.9ms\tremaining: 379ms\n",
      "10:\tlearn: 6383.2637121\ttotal: 22.8ms\tremaining: 391ms\n",
      "11:\tlearn: 6178.5744403\ttotal: 24.7ms\tremaining: 387ms\n",
      "12:\tlearn: 5913.0529845\ttotal: 26.2ms\tremaining: 377ms\n",
      "13:\tlearn: 5679.6443364\ttotal: 27.6ms\tremaining: 367ms\n",
      "14:\tlearn: 5514.2514179\ttotal: 28.9ms\tremaining: 357ms\n",
      "15:\tlearn: 5298.1409175\ttotal: 30.7ms\tremaining: 353ms\n",
      "16:\tlearn: 5087.2302020\ttotal: 32.5ms\tremaining: 350ms\n",
      "17:\tlearn: 4964.0389447\ttotal: 34.3ms\tremaining: 347ms\n",
      "18:\tlearn: 4775.6544136\ttotal: 35.7ms\tremaining: 340ms\n",
      "19:\tlearn: 4657.6892344\ttotal: 37.4ms\tremaining: 336ms\n",
      "20:\tlearn: 4486.8905935\ttotal: 39.2ms\tremaining: 334ms\n",
      "21:\tlearn: 4313.6222722\ttotal: 40.7ms\tremaining: 329ms\n",
      "22:\tlearn: 4152.9831055\ttotal: 42.2ms\tremaining: 325ms\n",
      "23:\tlearn: 4056.3618822\ttotal: 43.7ms\tremaining: 320ms\n",
      "24:\tlearn: 3918.1364686\ttotal: 45ms\tremaining: 315ms\n",
      "25:\tlearn: 3799.1831402\ttotal: 46.8ms\tremaining: 313ms\n",
      "26:\tlearn: 3688.0736154\ttotal: 48.2ms\tremaining: 309ms\n",
      "27:\tlearn: 3563.1979148\ttotal: 50ms\tremaining: 307ms\n",
      "28:\tlearn: 3464.3993586\ttotal: 52ms\tremaining: 307ms\n",
      "29:\tlearn: 3365.7726807\ttotal: 53.9ms\tremaining: 306ms\n",
      "30:\tlearn: 3254.6649797\ttotal: 55.5ms\tremaining: 302ms\n",
      "31:\tlearn: 3150.8762625\ttotal: 57.2ms\tremaining: 300ms\n",
      "32:\tlearn: 3055.1070214\ttotal: 58.1ms\tremaining: 294ms\n",
      "33:\tlearn: 2955.1644565\ttotal: 59.6ms\tremaining: 291ms\n",
      "34:\tlearn: 2876.5869929\ttotal: 61.3ms\tremaining: 289ms\n",
      "35:\tlearn: 2789.3942726\ttotal: 62.9ms\tremaining: 286ms\n",
      "36:\tlearn: 2711.1918875\ttotal: 64.7ms\tremaining: 285ms\n",
      "37:\tlearn: 2651.2167111\ttotal: 66.4ms\tremaining: 283ms\n",
      "38:\tlearn: 2585.3350441\ttotal: 68.4ms\tremaining: 282ms\n",
      "39:\tlearn: 2522.0278437\ttotal: 69.7ms\tremaining: 279ms\n",
      "40:\tlearn: 2450.9304737\ttotal: 71ms\tremaining: 276ms\n",
      "41:\tlearn: 2383.4270305\ttotal: 72.4ms\tremaining: 272ms\n",
      "42:\tlearn: 2315.7584652\ttotal: 73.8ms\tremaining: 269ms\n",
      "43:\tlearn: 2277.8055568\ttotal: 75.1ms\tremaining: 266ms\n",
      "44:\tlearn: 2222.0630698\ttotal: 76.7ms\tremaining: 264ms\n",
      "45:\tlearn: 2172.6215670\ttotal: 78.1ms\tremaining: 261ms\n",
      "46:\tlearn: 2120.1006478\ttotal: 79.2ms\tremaining: 258ms\n",
      "47:\tlearn: 2069.3149197\ttotal: 81.1ms\tremaining: 257ms\n",
      "48:\tlearn: 2015.3500125\ttotal: 82.1ms\tremaining: 253ms\n",
      "49:\tlearn: 1969.7467053\ttotal: 83.9ms\tremaining: 252ms\n",
      "50:\tlearn: 1927.6473073\ttotal: 84.9ms\tremaining: 248ms\n",
      "51:\tlearn: 1883.2107691\ttotal: 86ms\tremaining: 245ms\n",
      "52:\tlearn: 1838.7574527\ttotal: 87.2ms\tremaining: 242ms\n",
      "53:\tlearn: 1799.5839481\ttotal: 88.5ms\tremaining: 239ms\n",
      "54:\tlearn: 1757.4343768\ttotal: 90.1ms\tremaining: 238ms\n",
      "55:\tlearn: 1725.2597201\ttotal: 91.5ms\tremaining: 235ms\n",
      "56:\tlearn: 1696.8045811\ttotal: 93ms\tremaining: 233ms\n",
      "57:\tlearn: 1665.0929556\ttotal: 94.1ms\tremaining: 230ms\n",
      "58:\tlearn: 1633.6170027\ttotal: 95.9ms\tremaining: 229ms\n",
      "59:\tlearn: 1609.4172075\ttotal: 97.3ms\tremaining: 227ms\n",
      "60:\tlearn: 1580.6374998\ttotal: 99.2ms\tremaining: 226ms\n",
      "61:\tlearn: 1549.4872381\ttotal: 100ms\tremaining: 224ms\n",
      "62:\tlearn: 1523.2616073\ttotal: 102ms\tremaining: 222ms\n",
      "63:\tlearn: 1487.2350307\ttotal: 104ms\tremaining: 220ms\n",
      "64:\tlearn: 1462.0335508\ttotal: 105ms\tremaining: 218ms\n",
      "65:\tlearn: 1435.9991609\ttotal: 107ms\tremaining: 216ms\n",
      "66:\tlearn: 1411.8341803\ttotal: 108ms\tremaining: 215ms\n",
      "67:\tlearn: 1388.2780494\ttotal: 109ms\tremaining: 212ms\n",
      "68:\tlearn: 1362.4144606\ttotal: 111ms\tremaining: 210ms\n",
      "69:\tlearn: 1344.4176007\ttotal: 112ms\tremaining: 208ms\n",
      "70:\tlearn: 1319.4434857\ttotal: 114ms\tremaining: 207ms\n",
      "71:\tlearn: 1296.8772746\ttotal: 116ms\tremaining: 206ms\n",
      "72:\tlearn: 1279.6663921\ttotal: 118ms\tremaining: 205ms\n",
      "73:\tlearn: 1262.0082514\ttotal: 119ms\tremaining: 203ms\n",
      "74:\tlearn: 1243.1454147\ttotal: 121ms\tremaining: 201ms\n",
      "75:\tlearn: 1221.4931163\ttotal: 122ms\tremaining: 198ms\n",
      "76:\tlearn: 1214.4382194\ttotal: 123ms\tremaining: 196ms\n",
      "77:\tlearn: 1207.2970639\ttotal: 124ms\tremaining: 194ms\n",
      "78:\tlearn: 1189.0780334\ttotal: 128ms\tremaining: 196ms\n",
      "79:\tlearn: 1173.9117808\ttotal: 130ms\tremaining: 194ms\n",
      "80:\tlearn: 1164.7471942\ttotal: 131ms\tremaining: 193ms\n",
      "81:\tlearn: 1158.3857643\ttotal: 133ms\tremaining: 191ms\n",
      "82:\tlearn: 1149.0661410\ttotal: 134ms\tremaining: 189ms\n",
      "83:\tlearn: 1143.1852015\ttotal: 135ms\tremaining: 187ms\n",
      "84:\tlearn: 1135.2526219\ttotal: 137ms\tremaining: 185ms\n",
      "85:\tlearn: 1118.9389997\ttotal: 138ms\tremaining: 183ms\n",
      "86:\tlearn: 1104.5522109\ttotal: 140ms\tremaining: 182ms\n",
      "87:\tlearn: 1086.2632440\ttotal: 142ms\tremaining: 180ms\n",
      "88:\tlearn: 1080.0020482\ttotal: 143ms\tremaining: 178ms\n",
      "89:\tlearn: 1061.5798749\ttotal: 144ms\tremaining: 177ms\n",
      "90:\tlearn: 1055.5339341\ttotal: 146ms\tremaining: 175ms\n",
      "91:\tlearn: 1041.3292167\ttotal: 147ms\tremaining: 173ms\n",
      "92:\tlearn: 1036.3973177\ttotal: 148ms\tremaining: 170ms\n",
      "93:\tlearn: 1024.0050457\ttotal: 149ms\tremaining: 168ms\n",
      "94:\tlearn: 1019.3962973\ttotal: 150ms\tremaining: 166ms\n",
      "95:\tlearn: 1003.6136451\ttotal: 152ms\tremaining: 164ms\n",
      "96:\tlearn: 998.2570413\ttotal: 153ms\tremaining: 162ms\n",
      "97:\tlearn: 986.7694645\ttotal: 154ms\tremaining: 161ms\n",
      "98:\tlearn: 976.2597374\ttotal: 156ms\tremaining: 159ms\n",
      "99:\tlearn: 971.3130298\ttotal: 158ms\tremaining: 158ms\n",
      "100:\tlearn: 956.5761925\ttotal: 159ms\tremaining: 156ms\n",
      "101:\tlearn: 952.5496625\ttotal: 161ms\tremaining: 155ms\n",
      "102:\tlearn: 947.4572763\ttotal: 163ms\tremaining: 153ms\n",
      "103:\tlearn: 939.8607731\ttotal: 165ms\tremaining: 152ms\n",
      "104:\tlearn: 936.2400952\ttotal: 166ms\tremaining: 150ms\n",
      "105:\tlearn: 925.0253551\ttotal: 167ms\tremaining: 148ms\n",
      "106:\tlearn: 921.6576745\ttotal: 168ms\tremaining: 146ms\n",
      "107:\tlearn: 918.4844045\ttotal: 170ms\tremaining: 144ms\n",
      "108:\tlearn: 914.6485212\ttotal: 171ms\tremaining: 143ms\n",
      "109:\tlearn: 910.9721545\ttotal: 173ms\tremaining: 141ms\n",
      "110:\tlearn: 901.0004132\ttotal: 174ms\tremaining: 140ms\n",
      "111:\tlearn: 897.6145006\ttotal: 175ms\tremaining: 138ms\n",
      "112:\tlearn: 888.9290841\ttotal: 176ms\tremaining: 136ms\n",
      "113:\tlearn: 885.3218372\ttotal: 178ms\tremaining: 134ms\n",
      "114:\tlearn: 882.3677649\ttotal: 179ms\tremaining: 132ms\n",
      "115:\tlearn: 873.3589155\ttotal: 180ms\tremaining: 131ms\n",
      "116:\tlearn: 865.7485523\ttotal: 182ms\tremaining: 129ms\n",
      "117:\tlearn: 858.6798287\ttotal: 183ms\tremaining: 127ms\n",
      "118:\tlearn: 850.2441379\ttotal: 185ms\tremaining: 126ms\n",
      "119:\tlearn: 847.3098564\ttotal: 186ms\tremaining: 124ms\n",
      "120:\tlearn: 842.4734419\ttotal: 188ms\tremaining: 123ms\n",
      "121:\tlearn: 839.4246865\ttotal: 190ms\tremaining: 122ms\n",
      "122:\tlearn: 831.8028157\ttotal: 192ms\tremaining: 120ms\n",
      "123:\tlearn: 825.1152006\ttotal: 193ms\tremaining: 118ms\n",
      "124:\tlearn: 822.3201901\ttotal: 194ms\tremaining: 117ms\n",
      "125:\tlearn: 817.0237529\ttotal: 196ms\tremaining: 115ms\n",
      "126:\tlearn: 814.5920350\ttotal: 197ms\tremaining: 113ms\n",
      "127:\tlearn: 812.4220167\ttotal: 199ms\tremaining: 112ms\n",
      "128:\tlearn: 806.2235980\ttotal: 201ms\tremaining: 110ms\n",
      "129:\tlearn: 804.1234938\ttotal: 202ms\tremaining: 109ms\n",
      "130:\tlearn: 802.1473436\ttotal: 203ms\tremaining: 107ms\n",
      "131:\tlearn: 797.6348918\ttotal: 205ms\tremaining: 105ms\n",
      "132:\tlearn: 795.7639919\ttotal: 206ms\tremaining: 104ms\n",
      "133:\tlearn: 791.3564846\ttotal: 207ms\tremaining: 102ms\n",
      "134:\tlearn: 789.5587773\ttotal: 209ms\tremaining: 101ms\n",
      "135:\tlearn: 783.2117536\ttotal: 210ms\tremaining: 98.9ms\n",
      "136:\tlearn: 778.9550117\ttotal: 211ms\tremaining: 97.2ms\n",
      "137:\tlearn: 777.2733526\ttotal: 213ms\tremaining: 95.9ms\n",
      "138:\tlearn: 772.1237027\ttotal: 215ms\tremaining: 94.4ms\n",
      "139:\tlearn: 767.4702896\ttotal: 217ms\tremaining: 93ms\n",
      "140:\tlearn: 763.4173435\ttotal: 218ms\tremaining: 91.3ms\n",
      "141:\tlearn: 761.8526092\ttotal: 220ms\tremaining: 89.8ms\n",
      "142:\tlearn: 760.3804456\ttotal: 222ms\tremaining: 88.5ms\n",
      "143:\tlearn: 756.6351771\ttotal: 224ms\tremaining: 87ms\n",
      "144:\tlearn: 755.2247796\ttotal: 225ms\tremaining: 85.3ms\n",
      "145:\tlearn: 752.1642081\ttotal: 226ms\tremaining: 83.6ms\n",
      "146:\tlearn: 749.6165160\ttotal: 228ms\tremaining: 82.2ms\n",
      "147:\tlearn: 743.5556501\ttotal: 230ms\tremaining: 80.8ms\n",
      "148:\tlearn: 742.2918310\ttotal: 231ms\tremaining: 79.1ms\n",
      "149:\tlearn: 741.0556189\ttotal: 232ms\tremaining: 77.4ms\n",
      "150:\tlearn: 739.9012518\ttotal: 234ms\tremaining: 75.9ms\n",
      "151:\tlearn: 738.8156796\ttotal: 235ms\tremaining: 74.3ms\n",
      "152:\tlearn: 737.7946513\ttotal: 237ms\tremaining: 72.9ms\n",
      "153:\tlearn: 736.8341848\ttotal: 238ms\tremaining: 71.2ms\n",
      "154:\tlearn: 734.6153488\ttotal: 240ms\tremaining: 69.6ms\n",
      "155:\tlearn: 729.7280894\ttotal: 242ms\tremaining: 68.2ms\n",
      "156:\tlearn: 722.4054153\ttotal: 243ms\tremaining: 66.5ms\n",
      "157:\tlearn: 716.8335649\ttotal: 244ms\tremaining: 65ms\n",
      "158:\tlearn: 712.7702897\ttotal: 246ms\tremaining: 63.4ms\n",
      "159:\tlearn: 711.6551124\ttotal: 248ms\tremaining: 62ms\n",
      "160:\tlearn: 710.8256763\ttotal: 249ms\tremaining: 60.4ms\n",
      "161:\tlearn: 709.8248175\ttotal: 251ms\tremaining: 59ms\n",
      "162:\tlearn: 708.2444438\ttotal: 253ms\tremaining: 57.4ms\n",
      "163:\tlearn: 704.8605271\ttotal: 254ms\tremaining: 55.8ms\n",
      "164:\tlearn: 702.2467283\ttotal: 256ms\tremaining: 54.2ms\n",
      "165:\tlearn: 696.9459607\ttotal: 257ms\tremaining: 52.7ms\n",
      "166:\tlearn: 695.0167191\ttotal: 259ms\tremaining: 51.1ms\n",
      "167:\tlearn: 692.4336429\ttotal: 260ms\tremaining: 49.6ms\n",
      "168:\tlearn: 688.9418155\ttotal: 262ms\tremaining: 48ms\n",
      "169:\tlearn: 688.2324841\ttotal: 263ms\tremaining: 46.5ms\n",
      "170:\tlearn: 686.0374058\ttotal: 265ms\tremaining: 44.9ms\n",
      "171:\tlearn: 684.3941430\ttotal: 266ms\tremaining: 43.3ms\n",
      "172:\tlearn: 682.9542547\ttotal: 267ms\tremaining: 41.7ms\n",
      "173:\tlearn: 682.3235225\ttotal: 269ms\tremaining: 40.2ms\n",
      "174:\tlearn: 680.0276972\ttotal: 270ms\tremaining: 38.6ms\n",
      "175:\tlearn: 676.6175444\ttotal: 271ms\tremaining: 37ms\n",
      "176:\tlearn: 673.8872614\ttotal: 273ms\tremaining: 35.5ms\n",
      "177:\tlearn: 670.3406828\ttotal: 275ms\tremaining: 34ms\n",
      "178:\tlearn: 666.8986415\ttotal: 277ms\tremaining: 32.5ms\n",
      "179:\tlearn: 664.8150413\ttotal: 279ms\tremaining: 31ms\n",
      "180:\tlearn: 664.2156070\ttotal: 280ms\tremaining: 29.4ms\n",
      "181:\tlearn: 661.2510771\ttotal: 282ms\tremaining: 27.9ms\n",
      "182:\tlearn: 659.0354544\ttotal: 284ms\tremaining: 26.3ms\n",
      "183:\tlearn: 656.4799195\ttotal: 285ms\tremaining: 24.7ms\n",
      "184:\tlearn: 652.9104707\ttotal: 286ms\tremaining: 23.2ms\n",
      "185:\tlearn: 651.0293291\ttotal: 288ms\tremaining: 21.6ms\n",
      "186:\tlearn: 647.5152388\ttotal: 289ms\tremaining: 20.1ms\n",
      "187:\tlearn: 646.8113562\ttotal: 290ms\tremaining: 18.5ms\n",
      "188:\tlearn: 645.1868009\ttotal: 292ms\tremaining: 17ms\n",
      "189:\tlearn: 643.3079453\ttotal: 293ms\tremaining: 15.4ms\n",
      "190:\tlearn: 641.5437177\ttotal: 295ms\tremaining: 13.9ms\n",
      "191:\tlearn: 638.3456496\ttotal: 297ms\tremaining: 12.4ms\n",
      "192:\tlearn: 635.8653106\ttotal: 299ms\tremaining: 10.8ms\n",
      "193:\tlearn: 634.3236792\ttotal: 301ms\tremaining: 9.3ms\n",
      "194:\tlearn: 631.4965624\ttotal: 302ms\tremaining: 7.75ms\n",
      "195:\tlearn: 629.9232553\ttotal: 304ms\tremaining: 6.2ms\n",
      "196:\tlearn: 628.2144741\ttotal: 306ms\tremaining: 4.65ms\n",
      "197:\tlearn: 627.1861522\ttotal: 308ms\tremaining: 3.11ms\n",
      "198:\tlearn: 623.9701284\ttotal: 311ms\tremaining: 1.56ms\n",
      "199:\tlearn: 619.7093749\ttotal: 312ms\tremaining: 0us\n"
     ]
    },
    {
     "data": {
      "text/plain": [
       "<catboost.core.CatBoostRegressor at 0x25fd75b9fa0>"
      ]
     },
     "execution_count": 28,
     "metadata": {},
     "output_type": "execute_result"
    }
   ],
   "source": [
    "model.fit(X_train, y_train)"
   ]
  },
  {
   "cell_type": "markdown",
   "id": "85d51168",
   "metadata": {},
   "source": [
    "# Score on holdout dataset"
   ]
  },
  {
   "cell_type": "code",
   "execution_count": 29,
   "id": "5c1c1405",
   "metadata": {},
   "outputs": [
    {
     "data": {
      "text/plain": [
       "918.6958474680919"
      ]
     },
     "execution_count": 29,
     "metadata": {},
     "output_type": "execute_result"
    }
   ],
   "source": [
    "mean_squared_error(model.predict(X_test), y_test) ** 0.5"
   ]
  },
  {
   "cell_type": "markdown",
   "id": "a6d1777d",
   "metadata": {},
   "source": [
    "> Perfomance on holdout dataset is even better than CV scores"
   ]
  },
  {
   "cell_type": "markdown",
   "id": "ad08be9f",
   "metadata": {},
   "source": [
    "# Object-transformer to prepare data for model from raw data"
   ]
  },
  {
   "cell_type": "code",
   "execution_count": 30,
   "id": "81492889",
   "metadata": {},
   "outputs": [],
   "source": [
    "dataPreparation = DataPreparation(\n",
    "    vectorizer=vectorizer, \n",
    "    countries_df=pd.read_csv(\"../data/processed/countries_data.csv\")\n",
    ")"
   ]
  },
  {
   "cell_type": "code",
   "execution_count": 31,
   "id": "66bb0ca6",
   "metadata": {},
   "outputs": [],
   "source": [
    "sample_data = {'customer_name': 'Martina Avila',\n",
    "               'customer_email': 'cubilia.Curae.Phasellus@quisaccumsanconvallis.edu',\n",
    "               'country': 'Bulgaria',\n",
    "               'gender': 0,\n",
    "               'age': 42,\n",
    "               'annual_salary': 62812,\n",
    "               'credit_card_debt': 11609.5,\n",
    "               'net_worth': 238961.2,\n",
    "               'car_purchase_amount': 35320}"
   ]
  },
  {
   "cell_type": "code",
   "execution_count": 32,
   "id": "c2f1aefa",
   "metadata": {},
   "outputs": [],
   "source": [
    "sample_data_df = pd.DataFrame.from_dict({k: [v] for k, v in sample_data.items()})"
   ]
  },
  {
   "cell_type": "code",
   "execution_count": 33,
   "id": "b6b4bf38",
   "metadata": {},
   "outputs": [
    {
     "data": {
      "text/html": [
       "<div>\n",
       "<style scoped>\n",
       "    .dataframe tbody tr th:only-of-type {\n",
       "        vertical-align: middle;\n",
       "    }\n",
       "\n",
       "    .dataframe tbody tr th {\n",
       "        vertical-align: top;\n",
       "    }\n",
       "\n",
       "    .dataframe thead th {\n",
       "        text-align: right;\n",
       "    }\n",
       "</style>\n",
       "<table border=\"1\" class=\"dataframe\">\n",
       "  <thead>\n",
       "    <tr style=\"text-align: right;\">\n",
       "      <th></th>\n",
       "      <th>customer_name</th>\n",
       "      <th>customer_email</th>\n",
       "      <th>country</th>\n",
       "      <th>gender</th>\n",
       "      <th>age</th>\n",
       "      <th>annual_salary</th>\n",
       "      <th>credit_card_debt</th>\n",
       "      <th>net_worth</th>\n",
       "      <th>car_purchase_amount</th>\n",
       "    </tr>\n",
       "  </thead>\n",
       "  <tbody>\n",
       "    <tr>\n",
       "      <th>0</th>\n",
       "      <td>Martina Avila</td>\n",
       "      <td>cubilia.Curae.Phasellus@quisaccumsanconvallis.edu</td>\n",
       "      <td>Bulgaria</td>\n",
       "      <td>0</td>\n",
       "      <td>42</td>\n",
       "      <td>62812</td>\n",
       "      <td>11609.5</td>\n",
       "      <td>238961.2</td>\n",
       "      <td>35320</td>\n",
       "    </tr>\n",
       "  </tbody>\n",
       "</table>\n",
       "</div>"
      ],
      "text/plain": [
       "   customer_name                                     customer_email   country  \\\n",
       "0  Martina Avila  cubilia.Curae.Phasellus@quisaccumsanconvallis.edu  Bulgaria   \n",
       "\n",
       "   gender  age  annual_salary  credit_card_debt  net_worth  \\\n",
       "0       0   42          62812           11609.5   238961.2   \n",
       "\n",
       "   car_purchase_amount  \n",
       "0                35320  "
      ]
     },
     "execution_count": 33,
     "metadata": {},
     "output_type": "execute_result"
    }
   ],
   "source": [
    "sample_data_df"
   ]
  },
  {
   "cell_type": "code",
   "execution_count": 34,
   "id": "458f1a48",
   "metadata": {},
   "outputs": [
    {
     "data": {
      "text/plain": [
       "array([[-0.49806936,  0.06988975, -0.2864808 , -0.6954499 , -0.22996797,\n",
       "         0.58002918,  0.        ,  0.        ,  0.        ,  1.        ,\n",
       "         0.        ,  0.        ,  1.22060375, -0.0391651 ,  0.        ,\n",
       "        -1.10159198, -0.12981586, -0.17935684,  0.        ,  0.        ,\n",
       "         0.        ,  1.        ,  0.        ,  0.        ,  0.        ,\n",
       "         0.        ,  0.        ,  0.        ,  0.        ,  0.        ]])"
      ]
     },
     "execution_count": 34,
     "metadata": {},
     "output_type": "execute_result"
    }
   ],
   "source": [
    "dataPreparation.transform(sample_data_df)"
   ]
  },
  {
   "cell_type": "code",
   "execution_count": 35,
   "id": "b64056aa",
   "metadata": {},
   "outputs": [
    {
     "data": {
      "text/plain": [
       "array([[-0.49806936,  0.06988975, -0.2864808 , -0.6954499 , -0.22996797,\n",
       "         0.58002918,  0.        ,  0.        ,  0.        ,  1.        ,\n",
       "         0.        ,  0.        ,  1.22060375, -0.0391651 ,  0.        ,\n",
       "        -1.10159198, -0.12981586, -0.17935684,  0.        ,  0.        ,\n",
       "         0.        ,  1.        ,  0.        ,  0.        ,  0.        ,\n",
       "         0.        ,  0.        ,  0.        ,  0.        ,  0.        ]])"
      ]
     },
     "execution_count": 35,
     "metadata": {},
     "output_type": "execute_result"
    }
   ],
   "source": [
    "dataPreparation.transform(sample_data)"
   ]
  },
  {
   "cell_type": "code",
   "execution_count": 36,
   "id": "d6299764",
   "metadata": {},
   "outputs": [
    {
     "data": {
      "text/plain": [
       "array([35092.49289698])"
      ]
     },
     "execution_count": 36,
     "metadata": {},
     "output_type": "execute_result"
    }
   ],
   "source": [
    "model.predict(dataPreparation.transform(sample_data_df))"
   ]
  },
  {
   "cell_type": "markdown",
   "id": "9ee11b00",
   "metadata": {},
   "source": [
    "> I created a handy object, than allow me to transform raw data to vector, than model can use.  \n",
    "> And I can give her both a dataframe and a dictionary"
   ]
  },
  {
   "cell_type": "markdown",
   "id": "30b819a0",
   "metadata": {},
   "source": [
    "# Saving artefacts"
   ]
  },
  {
   "cell_type": "code",
   "execution_count": 39,
   "id": "a0198ebf",
   "metadata": {},
   "outputs": [],
   "source": [
    "model.save_model(\"../artefacts/catboostregressor.bin\")\n",
    "with open(\"../artefacts/vectorizer.pkl\", \"wb\") as pkl_file:\n",
    "    pickle.dump(dataPreparation, pkl_file)"
   ]
  },
  {
   "cell_type": "code",
   "execution_count": 40,
   "id": "40ee995d",
   "metadata": {},
   "outputs": [],
   "source": [
    "bentoml.catboost.save_model(\"what_price_catboost\", model);"
   ]
  },
  {
   "cell_type": "markdown",
   "id": "9483d0f0",
   "metadata": {},
   "source": [
    "# Conclusion"
   ]
  },
  {
   "cell_type": "markdown",
   "id": "fd6e730b",
   "metadata": {},
   "source": [
    "> In this notebook I perform folowing steps:\n",
    "> - I vectorize input dataset to vector form (class MyVectorizer)\n",
    "> - I try different regression models, and find that LinearModel is unfair for this task,\n",
    "> - Select the best model (except Linear ones), that was CatBoostRegressor\n",
    "> - Optimize hyperparameters for this model\n",
    "> - Save model and vectorizer as artefacts\n",
    "> - Also save model for BentoML"
   ]
  },
  {
   "cell_type": "code",
   "execution_count": null,
   "id": "d004f757",
   "metadata": {},
   "outputs": [],
   "source": []
  }
 ],
 "metadata": {
  "kernelspec": {
   "display_name": "Python 3 (ipykernel)",
   "language": "python",
   "name": "python3"
  },
  "language_info": {
   "codemirror_mode": {
    "name": "ipython",
    "version": 3
   },
   "file_extension": ".py",
   "mimetype": "text/x-python",
   "name": "python",
   "nbconvert_exporter": "python",
   "pygments_lexer": "ipython3",
   "version": "3.9.7"
  }
 },
 "nbformat": 4,
 "nbformat_minor": 5
}
