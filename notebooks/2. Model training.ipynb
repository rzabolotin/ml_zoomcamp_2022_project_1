{
 "cells": [
  {
   "cell_type": "markdown",
   "id": "d62f141f",
   "metadata": {},
   "source": [
    "# Model training\n",
    "\n",
    "In this notebook I tried diffenent model, compare their performance, try optimze hyperparameters.  \n",
    "\n",
    "List of models:\n",
    "- LinearRegression\n",
    "- Ridge (Linear model with L2 regularization)\n",
    "- Linear SVR\n",
    "- Random Forest\n",
    "- CatBoost\n",
    "\n",
    "We have regression task, we try predict the amout of money that customer willing to pay for a car.  \n",
    "\n",
    "I used the RMSE metric for evaluation"
   ]
  },
  {
   "cell_type": "code",
   "execution_count": 159,
   "id": "e3991490",
   "metadata": {},
   "outputs": [],
   "source": [
    "import numpy as np\n",
    "import pandas as pd\n",
    "from pprint import pprint\n",
    "import pickle\n",
    "\n",
    "from  sklearn.model_selection import cross_val_score, train_test_split, GridSearchCV\n",
    "from sklearn.metrics import mean_squared_error\n",
    "from sklearn.base import BaseEstimator\n",
    "from sklearn.preprocessing import StandardScaler\n",
    "from sklearn.feature_extraction import DictVectorizer\n",
    "\n",
    "from sklearn.linear_model import LinearRegression, RidgeCV\n",
    "from sklearn.svm import LinearSVR\n",
    "from sklearn.ensemble import RandomForestRegressor\n",
    "from catboost import CatBoostRegressor\n",
    "\n",
    "import bentoml\n"
   ]
  },
  {
   "cell_type": "code",
   "execution_count": 2,
   "id": "a72dc06d",
   "metadata": {},
   "outputs": [],
   "source": [
    "SEED=42"
   ]
  },
  {
   "cell_type": "markdown",
   "id": "00f97497",
   "metadata": {},
   "source": [
    "# Prepare data for training"
   ]
  },
  {
   "cell_type": "code",
   "execution_count": 3,
   "id": "35c8c256",
   "metadata": {},
   "outputs": [],
   "source": [
    "df = pd.read_csv(\"../data/processed/main_data.csv\")"
   ]
  },
  {
   "cell_type": "code",
   "execution_count": 4,
   "id": "c0a60b6f",
   "metadata": {},
   "outputs": [
    {
     "data": {
      "text/html": [
       "<div>\n",
       "<style scoped>\n",
       "    .dataframe tbody tr th:only-of-type {\n",
       "        vertical-align: middle;\n",
       "    }\n",
       "\n",
       "    .dataframe tbody tr th {\n",
       "        vertical-align: top;\n",
       "    }\n",
       "\n",
       "    .dataframe thead th {\n",
       "        text-align: right;\n",
       "    }\n",
       "</style>\n",
       "<table border=\"1\" class=\"dataframe\">\n",
       "  <thead>\n",
       "    <tr style=\"text-align: right;\">\n",
       "      <th></th>\n",
       "      <th>gender</th>\n",
       "      <th>age</th>\n",
       "      <th>annual_salary</th>\n",
       "      <th>credit_card_debt</th>\n",
       "      <th>net_worth</th>\n",
       "      <th>car_purchase_amount</th>\n",
       "      <th>customer_email_suffix</th>\n",
       "      <th>region</th>\n",
       "      <th>population</th>\n",
       "      <th>area_sq_mi</th>\n",
       "      <th>pop_density_per_sq_mi</th>\n",
       "      <th>coastline_coastarea_ratio</th>\n",
       "      <th>gdp__per_capita</th>\n",
       "      <th>birthrate</th>\n",
       "      <th>deathrate</th>\n",
       "    </tr>\n",
       "  </thead>\n",
       "  <tbody>\n",
       "    <tr>\n",
       "      <th>0</th>\n",
       "      <td>0</td>\n",
       "      <td>41.851720</td>\n",
       "      <td>62812.09301</td>\n",
       "      <td>11609.380910</td>\n",
       "      <td>238961.2505</td>\n",
       "      <td>35321.45877</td>\n",
       "      <td>.edu</td>\n",
       "      <td>EASTERN EUROPE</td>\n",
       "      <td>7385367</td>\n",
       "      <td>110910</td>\n",
       "      <td>66.6</td>\n",
       "      <td>0.32</td>\n",
       "      <td>7600.0</td>\n",
       "      <td>9.65</td>\n",
       "      <td>14.27</td>\n",
       "    </tr>\n",
       "    <tr>\n",
       "      <th>1</th>\n",
       "      <td>0</td>\n",
       "      <td>40.870623</td>\n",
       "      <td>66646.89292</td>\n",
       "      <td>9572.957136</td>\n",
       "      <td>530973.9078</td>\n",
       "      <td>45115.52566</td>\n",
       "      <td>.co.uk</td>\n",
       "      <td>LATIN AMER. &amp; CARIB</td>\n",
       "      <td>287730</td>\n",
       "      <td>22966</td>\n",
       "      <td>12.5</td>\n",
       "      <td>1.68</td>\n",
       "      <td>4900.0</td>\n",
       "      <td>28.84</td>\n",
       "      <td>5.72</td>\n",
       "    </tr>\n",
       "    <tr>\n",
       "      <th>2</th>\n",
       "      <td>1</td>\n",
       "      <td>43.152897</td>\n",
       "      <td>53798.55112</td>\n",
       "      <td>11160.355060</td>\n",
       "      <td>638467.1773</td>\n",
       "      <td>42925.70921</td>\n",
       "      <td>.co.uk</td>\n",
       "      <td>NORTHERN AFRICA</td>\n",
       "      <td>32930091</td>\n",
       "      <td>2381740</td>\n",
       "      <td>13.8</td>\n",
       "      <td>0.04</td>\n",
       "      <td>6000.0</td>\n",
       "      <td>17.14</td>\n",
       "      <td>4.61</td>\n",
       "    </tr>\n",
       "    <tr>\n",
       "      <th>3</th>\n",
       "      <td>1</td>\n",
       "      <td>58.271369</td>\n",
       "      <td>79370.03798</td>\n",
       "      <td>14426.164850</td>\n",
       "      <td>548599.0524</td>\n",
       "      <td>67422.36313</td>\n",
       "      <td>.com</td>\n",
       "      <td>OCEANIA</td>\n",
       "      <td>21388</td>\n",
       "      <td>240</td>\n",
       "      <td>89.1</td>\n",
       "      <td>50.00</td>\n",
       "      <td>5000.0</td>\n",
       "      <td>21.00</td>\n",
       "      <td>0.00</td>\n",
       "    </tr>\n",
       "    <tr>\n",
       "      <th>4</th>\n",
       "      <td>1</td>\n",
       "      <td>57.313749</td>\n",
       "      <td>59729.15130</td>\n",
       "      <td>5358.712177</td>\n",
       "      <td>560304.0671</td>\n",
       "      <td>55915.46248</td>\n",
       "      <td>.net</td>\n",
       "      <td>LATIN AMER. &amp; CARIB</td>\n",
       "      <td>188078227</td>\n",
       "      <td>8511965</td>\n",
       "      <td>22.1</td>\n",
       "      <td>0.09</td>\n",
       "      <td>7600.0</td>\n",
       "      <td>16.56</td>\n",
       "      <td>6.17</td>\n",
       "    </tr>\n",
       "  </tbody>\n",
       "</table>\n",
       "</div>"
      ],
      "text/plain": [
       "   gender        age  annual_salary  credit_card_debt    net_worth  \\\n",
       "0       0  41.851720    62812.09301      11609.380910  238961.2505   \n",
       "1       0  40.870623    66646.89292       9572.957136  530973.9078   \n",
       "2       1  43.152897    53798.55112      11160.355060  638467.1773   \n",
       "3       1  58.271369    79370.03798      14426.164850  548599.0524   \n",
       "4       1  57.313749    59729.15130       5358.712177  560304.0671   \n",
       "\n",
       "   car_purchase_amount customer_email_suffix  \\\n",
       "0          35321.45877                  .edu   \n",
       "1          45115.52566                .co.uk   \n",
       "2          42925.70921                .co.uk   \n",
       "3          67422.36313                  .com   \n",
       "4          55915.46248                  .net   \n",
       "\n",
       "                                region  population  area_sq_mi  \\\n",
       "0  EASTERN EUROPE                          7385367      110910   \n",
       "1              LATIN AMER. & CARIB          287730       22966   \n",
       "2  NORTHERN AFRICA                        32930091     2381740   \n",
       "3  OCEANIA                                   21388         240   \n",
       "4              LATIN AMER. & CARIB       188078227     8511965   \n",
       "\n",
       "   pop_density_per_sq_mi  coastline_coastarea_ratio  gdp__per_capita  \\\n",
       "0                   66.6                       0.32           7600.0   \n",
       "1                   12.5                       1.68           4900.0   \n",
       "2                   13.8                       0.04           6000.0   \n",
       "3                   89.1                      50.00           5000.0   \n",
       "4                   22.1                       0.09           7600.0   \n",
       "\n",
       "   birthrate  deathrate  \n",
       "0       9.65      14.27  \n",
       "1      28.84       5.72  \n",
       "2      17.14       4.61  \n",
       "3      21.00       0.00  \n",
       "4      16.56       6.17  "
      ]
     },
     "execution_count": 4,
     "metadata": {},
     "output_type": "execute_result"
    }
   ],
   "source": [
    "df.head()"
   ]
  },
  {
   "cell_type": "code",
   "execution_count": 5,
   "id": "2de9c13d",
   "metadata": {},
   "outputs": [],
   "source": [
    "y = df.car_purchase_amount\n",
    "df.drop([\"car_purchase_amount\"], axis=1, inplace=True)"
   ]
  },
  {
   "cell_type": "code",
   "execution_count": 6,
   "id": "26bc05d3",
   "metadata": {},
   "outputs": [],
   "source": [
    "df_train, df_test, y_train, y_test = train_test_split(df, y, test_size=0.2, random_state=SEED, shuffle=True)"
   ]
  },
  {
   "cell_type": "code",
   "execution_count": 7,
   "id": "a6749ebd",
   "metadata": {},
   "outputs": [
    {
     "data": {
      "text/html": [
       "<div>\n",
       "<style scoped>\n",
       "    .dataframe tbody tr th:only-of-type {\n",
       "        vertical-align: middle;\n",
       "    }\n",
       "\n",
       "    .dataframe tbody tr th {\n",
       "        vertical-align: top;\n",
       "    }\n",
       "\n",
       "    .dataframe thead th {\n",
       "        text-align: right;\n",
       "    }\n",
       "</style>\n",
       "<table border=\"1\" class=\"dataframe\">\n",
       "  <thead>\n",
       "    <tr style=\"text-align: right;\">\n",
       "      <th></th>\n",
       "      <th>gender</th>\n",
       "      <th>age</th>\n",
       "      <th>annual_salary</th>\n",
       "      <th>credit_card_debt</th>\n",
       "      <th>net_worth</th>\n",
       "      <th>customer_email_suffix</th>\n",
       "      <th>region</th>\n",
       "      <th>population</th>\n",
       "      <th>area_sq_mi</th>\n",
       "      <th>pop_density_per_sq_mi</th>\n",
       "      <th>coastline_coastarea_ratio</th>\n",
       "      <th>gdp__per_capita</th>\n",
       "      <th>birthrate</th>\n",
       "      <th>deathrate</th>\n",
       "    </tr>\n",
       "  </thead>\n",
       "  <tbody>\n",
       "    <tr>\n",
       "      <th>249</th>\n",
       "      <td>0</td>\n",
       "      <td>36.117247</td>\n",
       "      <td>70334.42787</td>\n",
       "      <td>9823.218967</td>\n",
       "      <td>632600.4718</td>\n",
       "      <td>.ca</td>\n",
       "      <td>UNKNOWN</td>\n",
       "      <td>0</td>\n",
       "      <td>0</td>\n",
       "      <td>0.0</td>\n",
       "      <td>0.00</td>\n",
       "      <td>0.0</td>\n",
       "      <td>0.00</td>\n",
       "      <td>0.00</td>\n",
       "    </tr>\n",
       "    <tr>\n",
       "      <th>433</th>\n",
       "      <td>1</td>\n",
       "      <td>39.814817</td>\n",
       "      <td>56086.45033</td>\n",
       "      <td>6588.606462</td>\n",
       "      <td>228388.5491</td>\n",
       "      <td>.ca</td>\n",
       "      <td>UNKNOWN</td>\n",
       "      <td>0</td>\n",
       "      <td>0</td>\n",
       "      <td>0.0</td>\n",
       "      <td>0.00</td>\n",
       "      <td>0.0</td>\n",
       "      <td>0.00</td>\n",
       "      <td>0.00</td>\n",
       "    </tr>\n",
       "    <tr>\n",
       "      <th>19</th>\n",
       "      <td>0</td>\n",
       "      <td>58.741842</td>\n",
       "      <td>55368.23716</td>\n",
       "      <td>13272.946470</td>\n",
       "      <td>566022.1306</td>\n",
       "      <td>.ca</td>\n",
       "      <td>NEAR EAST</td>\n",
       "      <td>26783383</td>\n",
       "      <td>437072</td>\n",
       "      <td>61.3</td>\n",
       "      <td>0.01</td>\n",
       "      <td>1500.0</td>\n",
       "      <td>31.98</td>\n",
       "      <td>5.37</td>\n",
       "    </tr>\n",
       "    <tr>\n",
       "      <th>322</th>\n",
       "      <td>0</td>\n",
       "      <td>60.180119</td>\n",
       "      <td>58837.97088</td>\n",
       "      <td>12788.815730</td>\n",
       "      <td>622324.7499</td>\n",
       "      <td>.co.uk</td>\n",
       "      <td>EASTERN EUROPE</td>\n",
       "      <td>9396411</td>\n",
       "      <td>88361</td>\n",
       "      <td>106.3</td>\n",
       "      <td>0.00</td>\n",
       "      <td>2200.0</td>\n",
       "      <td>0.00</td>\n",
       "      <td>0.00</td>\n",
       "    </tr>\n",
       "    <tr>\n",
       "      <th>332</th>\n",
       "      <td>0</td>\n",
       "      <td>31.244838</td>\n",
       "      <td>41361.95045</td>\n",
       "      <td>10755.508420</td>\n",
       "      <td>615720.0425</td>\n",
       "      <td>.edu</td>\n",
       "      <td>UNKNOWN</td>\n",
       "      <td>0</td>\n",
       "      <td>0</td>\n",
       "      <td>0.0</td>\n",
       "      <td>0.00</td>\n",
       "      <td>0.0</td>\n",
       "      <td>0.00</td>\n",
       "      <td>0.00</td>\n",
       "    </tr>\n",
       "  </tbody>\n",
       "</table>\n",
       "</div>"
      ],
      "text/plain": [
       "     gender        age  annual_salary  credit_card_debt    net_worth  \\\n",
       "249       0  36.117247    70334.42787       9823.218967  632600.4718   \n",
       "433       1  39.814817    56086.45033       6588.606462  228388.5491   \n",
       "19        0  58.741842    55368.23716      13272.946470  566022.1306   \n",
       "322       0  60.180119    58837.97088      12788.815730  622324.7499   \n",
       "332       0  31.244838    41361.95045      10755.508420  615720.0425   \n",
       "\n",
       "    customer_email_suffix                               region  population  \\\n",
       "249                   .ca                              UNKNOWN           0   \n",
       "433                   .ca                              UNKNOWN           0   \n",
       "19                    .ca  NEAR EAST                              26783383   \n",
       "322                .co.uk  EASTERN EUROPE                          9396411   \n",
       "332                  .edu                              UNKNOWN           0   \n",
       "\n",
       "     area_sq_mi  pop_density_per_sq_mi  coastline_coastarea_ratio  \\\n",
       "249           0                    0.0                       0.00   \n",
       "433           0                    0.0                       0.00   \n",
       "19       437072                   61.3                       0.01   \n",
       "322       88361                  106.3                       0.00   \n",
       "332           0                    0.0                       0.00   \n",
       "\n",
       "     gdp__per_capita  birthrate  deathrate  \n",
       "249              0.0       0.00       0.00  \n",
       "433              0.0       0.00       0.00  \n",
       "19            1500.0      31.98       5.37  \n",
       "322           2200.0       0.00       0.00  \n",
       "332              0.0       0.00       0.00  "
      ]
     },
     "execution_count": 7,
     "metadata": {},
     "output_type": "execute_result"
    }
   ],
   "source": [
    "df_train.head()"
   ]
  },
  {
   "cell_type": "markdown",
   "id": "1882b1f3",
   "metadata": {},
   "source": [
    "> Separeted y from df  \n",
    "> Splited dataset to train & test (took 20% for holdout)\n"
   ]
  },
  {
   "cell_type": "markdown",
   "id": "8fa86cf3",
   "metadata": {},
   "source": [
    "# Vecrorize dataset"
   ]
  },
  {
   "cell_type": "code",
   "execution_count": 8,
   "id": "4195c3a8",
   "metadata": {},
   "outputs": [
    {
     "name": "stdout",
     "output_type": "stream",
     "text": [
      "<class 'pandas.core.frame.DataFrame'>\n",
      "RangeIndex: 500 entries, 0 to 499\n",
      "Data columns (total 14 columns):\n",
      " #   Column                     Non-Null Count  Dtype  \n",
      "---  ------                     --------------  -----  \n",
      " 0   gender                     500 non-null    int64  \n",
      " 1   age                        500 non-null    float64\n",
      " 2   annual_salary              500 non-null    float64\n",
      " 3   credit_card_debt           500 non-null    float64\n",
      " 4   net_worth                  500 non-null    float64\n",
      " 5   customer_email_suffix      500 non-null    object \n",
      " 6   region                     500 non-null    object \n",
      " 7   population                 500 non-null    int64  \n",
      " 8   area_sq_mi                 500 non-null    int64  \n",
      " 9   pop_density_per_sq_mi      500 non-null    float64\n",
      " 10  coastline_coastarea_ratio  500 non-null    float64\n",
      " 11  gdp__per_capita            500 non-null    float64\n",
      " 12  birthrate                  500 non-null    float64\n",
      " 13  deathrate                  500 non-null    float64\n",
      "dtypes: float64(9), int64(3), object(2)\n",
      "memory usage: 54.8+ KB\n"
     ]
    }
   ],
   "source": [
    "df.info()"
   ]
  },
  {
   "cell_type": "code",
   "execution_count": 36,
   "id": "c6226925",
   "metadata": {},
   "outputs": [],
   "source": [
    "class MyVectorizer(BaseEstimator):\n",
    "    def __init__(self):\n",
    "        self._scaler = StandardScaler()\n",
    "        self._vectorizer = DictVectorizer(sparse=False)\n",
    "        self._numerical_features = [\n",
    "            \"age\",\n",
    "            \"annual_salary\",\n",
    "            \"credit_card_debt\",\n",
    "            \"net_worth\",\n",
    "            \"population\",\n",
    "            \"area_sq_mi\",\n",
    "            \"pop_density_per_sq_mi\",\n",
    "            \"coastline_coastarea_ratio\",\n",
    "            \"gdp__per_capita\",\n",
    "            \"birthrate\",\n",
    "            \"deathrate\"\n",
    "            \n",
    "        ]\n",
    "        \n",
    "    def fit(self, df):\n",
    "        self._scaler.fit(df[self._numerical_features])\n",
    "        row_dicts = df.to_dict(orient='records')\n",
    "        self._vectorizer.fit(row_dicts)\n",
    "        \n",
    "    def transform(self, df):\n",
    "        df[self._numerical_features] = self._scaler.transform(df[self._numerical_features])\n",
    "        row_dicts = df.to_dict(orient='records')\n",
    "        return self._vectorizer.transform(row_dicts)\n",
    "    \n",
    "    def fit_transform(self, df):\n",
    "        self.fit(df)\n",
    "        return self.transform(df)\n",
    "    \n",
    "    def get_feature_names(self):\n",
    "        return self._vectorizer.get_feature_names_out ()\n",
    "            "
   ]
  },
  {
   "cell_type": "code",
   "execution_count": 105,
   "id": "104494fa",
   "metadata": {},
   "outputs": [],
   "source": [
    "vectorizer = MyVectorizer()\n",
    "X_train = vectorizer.fit_transform(df_train)\n",
    "X_test = vectorizer.transform(df_test)"
   ]
  },
  {
   "cell_type": "markdown",
   "id": "27ef5b40",
   "metadata": {},
   "source": [
    "# Let's try dummy models\n",
    "> That predicts mean amount"
   ]
  },
  {
   "cell_type": "code",
   "execution_count": 13,
   "id": "671be5f5",
   "metadata": {},
   "outputs": [],
   "source": [
    "class MeanPredictor(BaseEstimator):\n",
    "    def __init__(self):\n",
    "        self._mean = 0\n",
    "    \n",
    "    def fit(self, X, y):\n",
    "        self._mean = np.mean(y)\n",
    "    \n",
    "    def predict(self, X):\n",
    "        return np.repeat(self._mean, X.shape[0])\n",
    "    \n",
    "    def score(self, X, y):\n",
    "        return mean_squared_error(self.predict(X), y)"
   ]
  },
  {
   "cell_type": "code",
   "execution_count": 131,
   "id": "297dfa54",
   "metadata": {},
   "outputs": [],
   "source": [
    "def score_model(model, X, y):\n",
    "    result = list(np.round((-cross_val_score(model, X, y, cv=5, scoring='neg_mean_squared_error'))**0.5, 5))\n",
    "    print(f\"Cross validation RMSE for {model}\")\n",
    "    print()\n",
    "    pprint(result)\n",
    "    print()\n",
    "    print(f\"Mean RMSE: {np.round(np.mean(result), 5)}\")"
   ]
  },
  {
   "cell_type": "code",
   "execution_count": 132,
   "id": "9bc204ba",
   "metadata": {},
   "outputs": [
    {
     "name": "stdout",
     "output_type": "stream",
     "text": [
      "Cross validation RMSE for MeanPredictor()\n",
      "\n",
      "[11534.6994, 11003.47481, 11618.62646, 10089.47294, 9885.06097]\n",
      "\n",
      "Mean RMSE: 10826.26692\n"
     ]
    }
   ],
   "source": [
    "score_model(MeanPredictor(), X_train, y_train)"
   ]
  },
  {
   "cell_type": "markdown",
   "id": "cba7ddf6",
   "metadata": {},
   "source": [
    "# Linear models"
   ]
  },
  {
   "cell_type": "markdown",
   "id": "8e7f363c",
   "metadata": {},
   "source": [
    "## LinearRegression"
   ]
  },
  {
   "cell_type": "code",
   "execution_count": 62,
   "id": "073934a0",
   "metadata": {},
   "outputs": [
    {
     "name": "stdout",
     "output_type": "stream",
     "text": [
      "Cross validation RMSE for LinearRegression()\n",
      "\n",
      "[1.0, 1.0, 1.0, 1.0, 1.0]\n",
      "\n",
      "Mean RMSE: 1.0\n"
     ]
    }
   ],
   "source": [
    "score_model(LinearRegression(), X_train, y_train)"
   ]
  },
  {
   "cell_type": "markdown",
   "id": "4127ee3f",
   "metadata": {},
   "source": [
    "## RidgeCV (Linear + L2 regularization + CV for alpha)"
   ]
  },
  {
   "cell_type": "code",
   "execution_count": 63,
   "id": "3e19944d",
   "metadata": {},
   "outputs": [],
   "source": [
    "regr_cv = RidgeCV(alphas=[0.1, 1.0, 10.0])"
   ]
  },
  {
   "cell_type": "code",
   "execution_count": 64,
   "id": "f22b0957",
   "metadata": {},
   "outputs": [],
   "source": [
    "model_cv = regr_cv.fit(X_train, y_train)"
   ]
  },
  {
   "cell_type": "code",
   "execution_count": 143,
   "id": "8c111f63",
   "metadata": {},
   "outputs": [
    {
     "name": "stdout",
     "output_type": "stream",
     "text": [
      "Param alpha = 0.1\n"
     ]
    }
   ],
   "source": [
    "print(f\"Param alpha = {model_cv.alpha_}\")"
   ]
  },
  {
   "cell_type": "code",
   "execution_count": 65,
   "id": "60df7966",
   "metadata": {},
   "outputs": [
    {
     "name": "stdout",
     "output_type": "stream",
     "text": [
      "Cross validation RMSE for RidgeCV(alphas=[0.1, 1.0, 10.0])\n",
      "\n",
      "[1.0, 1.0, 1.0, 1.0, 1.0]\n",
      "\n",
      "Mean RMSE: 1.0\n"
     ]
    }
   ],
   "source": [
    "score_model(model_cv, X_train, y_train)"
   ]
  },
  {
   "cell_type": "markdown",
   "id": "d2ae487c",
   "metadata": {},
   "source": [
    "## Linear models have an exelent performance.\n",
    "> Yes, and it's a problems.  \n",
    "> It means that our data is syntetic, and our target is linear combination of numeric features"
   ]
  },
  {
   "cell_type": "code",
   "execution_count": 81,
   "id": "4ef5200a",
   "metadata": {},
   "outputs": [
    {
     "name": "stdout",
     "output_type": "stream",
     "text": [
      "[46133.83724, 29517.87529, 54828.59527, 59621.99384, 25252.00363]\n",
      "[46135.27233, 29519.56184, 54827.52403, 59625.02618, 25252.93221]\n"
     ]
    }
   ],
   "source": [
    "model_linear = LinearRegression()\n",
    "model_linear.fit(X_train, y_train)\n",
    "pprint(list(np.round(model_linear.predict(X_train)[0:5],5)))\n",
    "pprint(list(y_train.iloc[:5]))"
   ]
  },
  {
   "cell_type": "markdown",
   "id": "069b479d",
   "metadata": {},
   "source": [
    "# Second dummy model, linear combination of features"
   ]
  },
  {
   "cell_type": "code",
   "execution_count": 100,
   "id": "3ad50c8a",
   "metadata": {},
   "outputs": [],
   "source": [
    "class LinearPredictor(BaseEstimator):\n",
    "    def __init__(self):\n",
    "        self._mean = 0\n",
    "    \n",
    "    def fit(self, X, y):\n",
    "        pass\n",
    "    \n",
    "    def predict(self, X):\n",
    "        y = 43946.09177638776 + X[:, 0] * 6764.2431783130405 + X[:, 1] * 6685.214307781013 + X[:, 15] * 5082.409111980831\n",
    "        return y\n",
    "    \n",
    "    def score(self, X, y):\n",
    "        return mean_squared_error(self.predict(X), y)"
   ]
  },
  {
   "cell_type": "code",
   "execution_count": 102,
   "id": "60dfbbc8",
   "metadata": {},
   "outputs": [
    {
     "name": "stdout",
     "output_type": "stream",
     "text": [
      "Cross validation RMSE for LinearPredictor()\n",
      "\n",
      "[1.46616, 1.29778, 1.34564, 1.57134, 1.71436]\n",
      "\n",
      "Mean RMSE: 1.47906\n"
     ]
    }
   ],
   "source": [
    "score_model(LinearPredictor(), X_train, y_train)"
   ]
  },
  {
   "cell_type": "code",
   "execution_count": 106,
   "id": "b7bf77cd",
   "metadata": {},
   "outputs": [
    {
     "name": "stdout",
     "output_type": "stream",
     "text": [
      "Test RMSE: 7.470502849657696e+18\n"
     ]
    }
   ],
   "source": [
    "model_linear = LinearPredictor()\n",
    "model_linear.fit(X_train, y_train)\n",
    "print(f\"Test RMSE: {mean_squared_error(y_test, model_linear.predict(X_test))}\")"
   ]
  },
  {
   "cell_type": "markdown",
   "id": "42138d65",
   "metadata": {},
   "source": [
    "> So, the best perfomance is given by linear model, because of linear dependency in source data  \n",
    "> By the way, I will not use this model for education purposes, and to make make more generalization ability for my service\n"
   ]
  },
  {
   "cell_type": "markdown",
   "id": "a1f3e09e",
   "metadata": {},
   "source": [
    "# Linear SVR"
   ]
  },
  {
   "cell_type": "code",
   "execution_count": 133,
   "id": "24124e37",
   "metadata": {},
   "outputs": [
    {
     "name": "stdout",
     "output_type": "stream",
     "text": [
      "Cross validation RMSE for LinearSVR()\n",
      "\n",
      "[45242.06469, 44232.61896, 45465.55035, 45472.61648, 43546.78562]\n",
      "\n",
      "Mean RMSE: 44791.92722\n"
     ]
    }
   ],
   "source": [
    "score_model(LinearSVR(), X_train, y_train)"
   ]
  },
  {
   "cell_type": "markdown",
   "id": "85c35acf",
   "metadata": {},
   "source": [
    "# Random Forest"
   ]
  },
  {
   "cell_type": "code",
   "execution_count": 156,
   "id": "95bef910",
   "metadata": {},
   "outputs": [
    {
     "name": "stdout",
     "output_type": "stream",
     "text": [
      "DEPTH 1\n",
      "Cross validation RMSE for RandomForestRegressor(max_depth=1, n_estimators=200, random_state=42)\n",
      "\n",
      "[9035.18447, 8114.38469, 9139.67589, 7514.8783, 7607.73515]\n",
      "\n",
      "Mean RMSE: 8282.3717\n",
      "DEPTH 2\n",
      "Cross validation RMSE for RandomForestRegressor(max_depth=2, n_estimators=200, random_state=42)\n",
      "\n",
      "[7210.48341, 6336.19179, 7431.46746, 5876.22276, 6736.31624]\n",
      "\n",
      "Mean RMSE: 6718.13633\n",
      "DEPTH 3\n",
      "Cross validation RMSE for RandomForestRegressor(max_depth=3, n_estimators=200, random_state=42)\n",
      "\n",
      "[5540.1352, 4812.57835, 6448.71115, 4472.06241, 5185.9053]\n",
      "\n",
      "Mean RMSE: 5291.87848\n",
      "DEPTH 5\n",
      "Cross validation RMSE for RandomForestRegressor(max_depth=5, n_estimators=200, random_state=42)\n",
      "\n",
      "[4034.6144, 3515.24238, 4914.26935, 2910.84405, 3710.08313]\n",
      "\n",
      "Mean RMSE: 3817.01066\n",
      "DEPTH 7\n",
      "Cross validation RMSE for RandomForestRegressor(max_depth=7, n_estimators=200, random_state=42)\n",
      "\n",
      "[3537.16047, 3127.25475, 4310.69216, 2498.00026, 3245.02482]\n",
      "\n",
      "Mean RMSE: 3343.62649\n",
      "DEPTH 10\n",
      "Cross validation RMSE for RandomForestRegressor(max_depth=10, n_estimators=200, random_state=42)\n",
      "\n",
      "[3498.75558, 3048.54208, 4210.27817, 2429.00858, 3168.9619]\n",
      "\n",
      "Mean RMSE: 3271.10926\n"
     ]
    }
   ],
   "source": [
    "for depth in [1,2,3,5,7,10]:\n",
    "    print(f\"DEPTH {depth}\")\n",
    "    score_model(RandomForestRegressor(n_estimators=200, max_depth=depth, random_state=SEED), X_train, y_train)"
   ]
  },
  {
   "cell_type": "markdown",
   "id": "6713fc92",
   "metadata": {},
   "source": [
    "# Catboost "
   ]
  },
  {
   "cell_type": "code",
   "execution_count": 157,
   "id": "0b8905c2",
   "metadata": {},
   "outputs": [
    {
     "name": "stdout",
     "output_type": "stream",
     "text": [
      "DEPTH 1\n",
      "Cross validation RMSE for <catboost.core.CatBoostRegressor object at 0x000001D2F200F4C0>\n",
      "\n",
      "[1808.50302, 1692.45359, 2431.94612, 1364.16829, 1655.12434]\n",
      "\n",
      "Mean RMSE: 1790.43907\n",
      "DEPTH 2\n",
      "Cross validation RMSE for <catboost.core.CatBoostRegressor object at 0x000001D2F31BC8E0>\n",
      "\n",
      "[1548.81551, 1500.26176, 1761.86331, 1149.7257, 1459.35538]\n",
      "\n",
      "Mean RMSE: 1484.00433\n",
      "DEPTH 3\n",
      "Cross validation RMSE for <catboost.core.CatBoostRegressor object at 0x000001D2ECACC610>\n",
      "\n",
      "[1409.05795, 1585.60115, 1655.40142, 877.8478, 1455.58039]\n",
      "\n",
      "Mean RMSE: 1396.69774\n",
      "DEPTH 5\n",
      "Cross validation RMSE for <catboost.core.CatBoostRegressor object at 0x000001D2F200F4C0>\n",
      "\n",
      "[1799.26243, 1850.77835, 2016.86718, 1028.04793, 1711.00724]\n",
      "\n",
      "Mean RMSE: 1681.19263\n",
      "DEPTH 7\n",
      "Cross validation RMSE for <catboost.core.CatBoostRegressor object at 0x000001D2F2ECDFD0>\n",
      "\n",
      "[2900.77422, 2670.43779, 3152.16527, 1948.3585, 2468.60227]\n",
      "\n",
      "Mean RMSE: 2628.06761\n",
      "DEPTH 10\n",
      "Cross validation RMSE for <catboost.core.CatBoostRegressor object at 0x000001D2F2E0E700>\n",
      "\n",
      "[5011.7295, 4717.96877, 4817.2451, 3498.26501, 4065.56258]\n",
      "\n",
      "Mean RMSE: 4422.15419\n"
     ]
    }
   ],
   "source": [
    "for depth in [1,2,3,5,7,10]:\n",
    "    print(f\"DEPTH {depth}\")\n",
    "    score_model(CatBoostRegressor(verbose=False, iterations=200, depth=depth, random_state=SEED), X_train, y_train)"
   ]
  },
  {
   "cell_type": "markdown",
   "id": "c51f11f5",
   "metadata": {},
   "source": [
    "# Results\n",
    "\n",
    "| Model                 | Params    | CV results |\n",
    "|-----------------------|-----------|------------|\n",
    "| MeanPredictor         |           | 10826      |\n",
    "| LinearRegression      |           | 1          |\n",
    "| RidgeCV               | alpha=0.1 | 1          |\n",
    "| LinearPredictor       |           | 1          |\n",
    "| LinearSVR             |           | 44791      |\n",
    "| RandomForestRegressor | depth=10  | 3249       |\n",
    "| **CatBoostRegressor** | **depth=3**| **1396**   |\n",
    "\n",
    "> Except for linear models, the CatBoostRegressor model with a depth of 3 gave the best performance.  \n",
    "> Let's take it as a basis and try to optimize other parameters."
   ]
  },
  {
   "cell_type": "markdown",
   "id": "68230b34",
   "metadata": {},
   "source": [
    "## Optimizing CatBoostRegressor"
   ]
  },
  {
   "cell_type": "code",
   "execution_count": 148,
   "id": "3b7bb8ba",
   "metadata": {},
   "outputs": [
    {
     "name": "stdout",
     "output_type": "stream",
     "text": [
      "Wall time: 16.9 s\n"
     ]
    },
    {
     "data": {
      "text/html": [
       "<style>#sk-container-id-6 {color: black;background-color: white;}#sk-container-id-6 pre{padding: 0;}#sk-container-id-6 div.sk-toggleable {background-color: white;}#sk-container-id-6 label.sk-toggleable__label {cursor: pointer;display: block;width: 100%;margin-bottom: 0;padding: 0.3em;box-sizing: border-box;text-align: center;}#sk-container-id-6 label.sk-toggleable__label-arrow:before {content: \"▸\";float: left;margin-right: 0.25em;color: #696969;}#sk-container-id-6 label.sk-toggleable__label-arrow:hover:before {color: black;}#sk-container-id-6 div.sk-estimator:hover label.sk-toggleable__label-arrow:before {color: black;}#sk-container-id-6 div.sk-toggleable__content {max-height: 0;max-width: 0;overflow: hidden;text-align: left;background-color: #f0f8ff;}#sk-container-id-6 div.sk-toggleable__content pre {margin: 0.2em;color: black;border-radius: 0.25em;background-color: #f0f8ff;}#sk-container-id-6 input.sk-toggleable__control:checked~div.sk-toggleable__content {max-height: 200px;max-width: 100%;overflow: auto;}#sk-container-id-6 input.sk-toggleable__control:checked~label.sk-toggleable__label-arrow:before {content: \"▾\";}#sk-container-id-6 div.sk-estimator input.sk-toggleable__control:checked~label.sk-toggleable__label {background-color: #d4ebff;}#sk-container-id-6 div.sk-label input.sk-toggleable__control:checked~label.sk-toggleable__label {background-color: #d4ebff;}#sk-container-id-6 input.sk-hidden--visually {border: 0;clip: rect(1px 1px 1px 1px);clip: rect(1px, 1px, 1px, 1px);height: 1px;margin: -1px;overflow: hidden;padding: 0;position: absolute;width: 1px;}#sk-container-id-6 div.sk-estimator {font-family: monospace;background-color: #f0f8ff;border: 1px dotted black;border-radius: 0.25em;box-sizing: border-box;margin-bottom: 0.5em;}#sk-container-id-6 div.sk-estimator:hover {background-color: #d4ebff;}#sk-container-id-6 div.sk-parallel-item::after {content: \"\";width: 100%;border-bottom: 1px solid gray;flex-grow: 1;}#sk-container-id-6 div.sk-label:hover label.sk-toggleable__label {background-color: #d4ebff;}#sk-container-id-6 div.sk-serial::before {content: \"\";position: absolute;border-left: 1px solid gray;box-sizing: border-box;top: 0;bottom: 0;left: 50%;z-index: 0;}#sk-container-id-6 div.sk-serial {display: flex;flex-direction: column;align-items: center;background-color: white;padding-right: 0.2em;padding-left: 0.2em;position: relative;}#sk-container-id-6 div.sk-item {position: relative;z-index: 1;}#sk-container-id-6 div.sk-parallel {display: flex;align-items: stretch;justify-content: center;background-color: white;position: relative;}#sk-container-id-6 div.sk-item::before, #sk-container-id-6 div.sk-parallel-item::before {content: \"\";position: absolute;border-left: 1px solid gray;box-sizing: border-box;top: 0;bottom: 0;left: 50%;z-index: -1;}#sk-container-id-6 div.sk-parallel-item {display: flex;flex-direction: column;z-index: 1;position: relative;background-color: white;}#sk-container-id-6 div.sk-parallel-item:first-child::after {align-self: flex-end;width: 50%;}#sk-container-id-6 div.sk-parallel-item:last-child::after {align-self: flex-start;width: 50%;}#sk-container-id-6 div.sk-parallel-item:only-child::after {width: 0;}#sk-container-id-6 div.sk-dashed-wrapped {border: 1px dashed gray;margin: 0 0.4em 0.5em 0.4em;box-sizing: border-box;padding-bottom: 0.4em;background-color: white;}#sk-container-id-6 div.sk-label label {font-family: monospace;font-weight: bold;display: inline-block;line-height: 1.2em;}#sk-container-id-6 div.sk-label-container {text-align: center;}#sk-container-id-6 div.sk-container {/* jupyter's `normalize.less` sets `[hidden] { display: none; }` but bootstrap.min.css set `[hidden] { display: none !important; }` so we also need the `!important` here to be able to override the default hidden behavior on the sphinx rendered scikit-learn.org. See: https://github.com/scikit-learn/scikit-learn/issues/21755 */display: inline-block !important;position: relative;}#sk-container-id-6 div.sk-text-repr-fallback {display: none;}</style><div id=\"sk-container-id-6\" class=\"sk-top-container\"><div class=\"sk-text-repr-fallback\"><pre>GridSearchCV(cv=5,\n",
       "             estimator=&lt;catboost.core.CatBoostRegressor object at 0x000001D2F3204A90&gt;,\n",
       "             n_jobs=-1,\n",
       "             param_grid={&#x27;depth&#x27;: [2, 3], &#x27;iterations&#x27;: [30, 50, 100, 200],\n",
       "                         &#x27;learning_rate&#x27;: [0.01, 0.05, 0.1]})</pre><b>In a Jupyter environment, please rerun this cell to show the HTML representation or trust the notebook. <br />On GitHub, the HTML representation is unable to render, please try loading this page with nbviewer.org.</b></div><div class=\"sk-container\" hidden><div class=\"sk-item sk-dashed-wrapped\"><div class=\"sk-label-container\"><div class=\"sk-label sk-toggleable\"><input class=\"sk-toggleable__control sk-hidden--visually\" id=\"sk-estimator-id-8\" type=\"checkbox\" ><label for=\"sk-estimator-id-8\" class=\"sk-toggleable__label sk-toggleable__label-arrow\">GridSearchCV</label><div class=\"sk-toggleable__content\"><pre>GridSearchCV(cv=5,\n",
       "             estimator=&lt;catboost.core.CatBoostRegressor object at 0x000001D2F3204A90&gt;,\n",
       "             n_jobs=-1,\n",
       "             param_grid={&#x27;depth&#x27;: [2, 3], &#x27;iterations&#x27;: [30, 50, 100, 200],\n",
       "                         &#x27;learning_rate&#x27;: [0.01, 0.05, 0.1]})</pre></div></div></div><div class=\"sk-parallel\"><div class=\"sk-parallel-item\"><div class=\"sk-item\"><div class=\"sk-label-container\"><div class=\"sk-label sk-toggleable\"><input class=\"sk-toggleable__control sk-hidden--visually\" id=\"sk-estimator-id-9\" type=\"checkbox\" ><label for=\"sk-estimator-id-9\" class=\"sk-toggleable__label sk-toggleable__label-arrow\">estimator: CatBoostRegressor</label><div class=\"sk-toggleable__content\"><pre>&lt;catboost.core.CatBoostRegressor object at 0x000001D2F3204A90&gt;</pre></div></div></div><div class=\"sk-serial\"><div class=\"sk-item\"><div class=\"sk-estimator sk-toggleable\"><input class=\"sk-toggleable__control sk-hidden--visually\" id=\"sk-estimator-id-10\" type=\"checkbox\" ><label for=\"sk-estimator-id-10\" class=\"sk-toggleable__label sk-toggleable__label-arrow\">CatBoostRegressor</label><div class=\"sk-toggleable__content\"><pre>&lt;catboost.core.CatBoostRegressor object at 0x000001D2F3204A90&gt;</pre></div></div></div></div></div></div></div></div></div></div>"
      ],
      "text/plain": [
       "GridSearchCV(cv=5,\n",
       "             estimator=<catboost.core.CatBoostRegressor object at 0x000001D2F3204A90>,\n",
       "             n_jobs=-1,\n",
       "             param_grid={'depth': [2, 3], 'iterations': [30, 50, 100, 200],\n",
       "                         'learning_rate': [0.01, 0.05, 0.1]})"
      ]
     },
     "execution_count": 148,
     "metadata": {},
     "output_type": "execute_result"
    }
   ],
   "source": [
    "%%time\n",
    "model = CatBoostRegressor(verbose=False, random_seed=SEED)\n",
    "parameters = {\n",
    "    'depth': [2, 3],\n",
    "    'learning_rate' : [0.01, 0.05, 0.1],\n",
    "    'iterations'    : [30, 50, 100, 200]\n",
    "}\n",
    "\n",
    "grid = GridSearchCV(estimator=model, param_grid = parameters, cv = 5, n_jobs=-1)\n",
    "grid.fit(X_train, y_train)"
   ]
  },
  {
   "cell_type": "code",
   "execution_count": 151,
   "id": "bc7f3ce9",
   "metadata": {},
   "outputs": [
    {
     "name": "stdout",
     "output_type": "stream",
     "text": [
      "Cross validation RMSE for <catboost.core.CatBoostRegressor object at 0x000001D2F33AE7F0>\n",
      "\n",
      "[1585.89346, 1455.53301, 1695.60371, 796.05805, 1258.44854]\n",
      "\n",
      "Mean RMSE: 1358.30735\n"
     ]
    }
   ],
   "source": [
    "score_model(grid.best_estimator_, X_train, y_train)"
   ]
  },
  {
   "cell_type": "code",
   "execution_count": 153,
   "id": "55513ee7",
   "metadata": {},
   "outputs": [
    {
     "data": {
      "text/plain": [
       "{'depth': 3, 'iterations': 200, 'learning_rate': 0.1}"
      ]
     },
     "execution_count": 153,
     "metadata": {},
     "output_type": "execute_result"
    }
   ],
   "source": [
    "grid.best_params_"
   ]
  },
  {
   "cell_type": "markdown",
   "id": "a04a8c9a",
   "metadata": {},
   "source": [
    "# Saving artefacts"
   ]
  },
  {
   "cell_type": "code",
   "execution_count": 158,
   "id": "cdc1b22f",
   "metadata": {},
   "outputs": [],
   "source": [
    "grid.best_estimator_.save_model(\"../artefacts/catboostregressor.bin\")\n",
    "with open(\"../artefacts/vectorizer.pkl\", \"wb\") as pkl_file:\n",
    "    pickle.dump(vectorizer, pkl_file)"
   ]
  },
  {
   "cell_type": "code",
   "execution_count": 161,
   "id": "64a852ed",
   "metadata": {},
   "outputs": [],
   "source": [
    "bentoml.catboost.save_model(\"what_price_catboost\", grid.best_estimator_);"
   ]
  },
  {
   "cell_type": "markdown",
   "id": "21c17727",
   "metadata": {},
   "source": [
    "# Conclusion"
   ]
  },
  {
   "cell_type": "markdown",
   "id": "a12cfb2b",
   "metadata": {},
   "source": [
    "> In this notebook I perform folowing steps:\n",
    "> - I vectorize input dataset to vector form (class MyVectorizer)\n",
    "> - I try different regression models, and find that LinearModel is unfair for this task,\n",
    "> - Select the best model (except Linear ones), that was CatBoostRegressor\n",
    "> - Optimize hyperparameters for this model\n",
    "> - Save model and vectorizer as artefacts\n",
    "> - Also save model for BentoML"
   ]
  },
  {
   "cell_type": "code",
   "execution_count": null,
   "id": "3aafc2f4",
   "metadata": {},
   "outputs": [],
   "source": []
  }
 ],
 "metadata": {
  "kernelspec": {
   "display_name": "Python 3 (ipykernel)",
   "language": "python",
   "name": "python3"
  },
  "language_info": {
   "codemirror_mode": {
    "name": "ipython",
    "version": 3
   },
   "file_extension": ".py",
   "mimetype": "text/x-python",
   "name": "python",
   "nbconvert_exporter": "python",
   "pygments_lexer": "ipython3",
   "version": "3.9.7"
  }
 },
 "nbformat": 4,
 "nbformat_minor": 5
}
